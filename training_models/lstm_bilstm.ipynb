{
 "cells": [
  {
   "cell_type": "code",
   "execution_count": 28,
   "metadata": {},
   "outputs": [],
   "source": [
    "import numpy as np\n",
    "import json\n",
    "import re\n",
    "import torch\n",
    "import torch.nn as nn\n",
    "import torch.nn.functional as F\n",
    "import torch.optim as optim\n",
    "from nltk import word_tokenize\n",
    "import pandas as pd\n",
    "from torch.utils.data import DataLoader,Dataset\n",
    "import os\n",
    "from tqdm import tqdm"
   ]
  },
  {
   "cell_type": "code",
   "execution_count": 29,
   "metadata": {},
   "outputs": [
    {
     "name": "stdout",
     "output_type": "stream",
     "text": [
      "                                              paragraph\n",
      "0     Between 1995 and 2010, a study was conducted r...\n",
      "1     Poverty represents a worldwide crisis. It is t...\n",
      "2     The left chart shows the population change hap...\n",
      "3     Human beings are facing many challenges nowada...\n",
      "4     Information about the thousands of visits from...\n",
      "...                                                 ...\n",
      "998   Efficient Learning of Continuous-Time Hidden M...\n",
      "999   Expectation Particle Belief Propagation. We pr...\n",
      "1000  Latent Bayesian melding for integrating indivi...\n",
      "1001  Distributionally Robust Logistic Regression. T...\n",
      "1002  Variational Dropout and the Local Reparameteri...\n",
      "\n",
      "[1003 rows x 1 columns]\n"
     ]
    }
   ],
   "source": [
    "file_path = os.getcwd()\n",
    "data = pd.read_csv('./dataset/data.csv') #loading the data\n",
    "print(data)\n",
    "with open(\"./word_freq.json\", \"r\") as json_file: #loading the unigram frequencies\n",
    "    word_freq = json.load(json_file)\n",
    "device = torch.device('cuda' if torch.cuda.is_available() else 'cpu')"
   ]
  },
  {
   "cell_type": "code",
   "execution_count": 30,
   "metadata": {},
   "outputs": [
    {
     "name": "stdout",
     "output_type": "stream",
     "text": [
      "0    [between, 1995, and, 2010, a, study, was, cond...\n",
      "1    [poverty, represents, a, worldwide, crisis, it...\n",
      "2    [the, left, chart, shows, the, population, cha...\n",
      "3    [human, beings, are, facing, many, challenges,...\n",
      "4    [information, about, the, thousands, of, visit...\n",
      "Name: tokens, dtype: object\n"
     ]
    }
   ],
   "source": [
    "def preprocess_text(text): #tokenisation\n",
    "    text = text.lower()\n",
    "    words = word_tokenize((re.sub(r'([.,!?@#:$%^&*()_+=-])',' ',text)))\n",
    "    return words\n",
    "\n",
    "data['tokens'] = data['paragraph'].apply(preprocess_text)\n",
    "\n",
    "print(data['tokens'].head())"
   ]
  },
  {
   "cell_type": "code",
   "execution_count": 31,
   "metadata": {},
   "outputs": [
    {
     "name": "stdout",
     "output_type": "stream",
     "text": [
      "Number of sequences: 211598\n",
      "First input sequence: ['between', '1995']\n",
      "First target: and\n"
     ]
    }
   ],
   "source": [
    "sequence_length = 2  # Number of words in the input sequence\n",
    "inputs = []\n",
    "targets = []\n",
    "for tokens in data['tokens']:\n",
    "    if len(tokens) < sequence_length + 1:\n",
    "        continue  # skip short sentences\n",
    "    for i in range(sequence_length, len(tokens)):\n",
    "        input_seq = tokens[i-sequence_length:i]\n",
    "        target = tokens[i]\n",
    "        inputs.append(input_seq)\n",
    "        targets.append(target)\n",
    "\n",
    "print(f'Number of sequences: {len(inputs)}')\n",
    "print(f'First input sequence: {inputs[0]}')\n",
    "print(f'First target: {targets[0]}')"
   ]
  },
  {
   "cell_type": "code",
   "execution_count": 32,
   "metadata": {},
   "outputs": [
    {
     "name": "stdout",
     "output_type": "stream",
     "text": [
      "Vocabulary size: 7314\n",
      "First 10 words in vocabulary: ['<PAD>', '<UNK>', 'between', '1995', 'and', '2010', 'a', 'study', 'was', 'conducted']\n"
     ]
    }
   ],
   "source": [
    "min_freq = 2  \n",
    "vocab = [word for word, count in word_freq.items() if count >= min_freq]\n",
    "vocab = ['<PAD>', '<UNK>'] + vocab  #special tokens\n",
    "\n",
    "word_to_idx = {word: idx for idx, word in enumerate(vocab)}\n",
    "idx_to_word = {idx: word for word, idx in word_to_idx.items()}\n",
    "\n",
    "vocab_size = len(word_to_idx)\n",
    "print(f'Vocabulary size: {vocab_size}')\n",
    "print(f'First 10 words in vocabulary: {vocab[:10]}')\n",
    "\n",
    "inputs_int = [[word_to_idx.get(word,word_to_idx['<UNK>']) for word in input] for input in inputs]\n",
    "targets_int = [word_to_idx.get(word,word_to_idx['<UNK>']) for word in targets]\n"
   ]
  },
  {
   "cell_type": "code",
   "execution_count": 33,
   "metadata": {},
   "outputs": [],
   "source": [
    "with open(\"word_to_idx.json\", \"w\") as json_file:\n",
    "    json.dump(word_to_idx, json_file)\n",
    "\n",
    "with open(\"idx_to_word.json\", \"w\") as json_file:\n",
    "    json.dump(idx_to_word, json_file)"
   ]
  },
  {
   "cell_type": "code",
   "execution_count": 34,
   "metadata": {},
   "outputs": [
    {
     "name": "stdout",
     "output_type": "stream",
     "text": [
      "Training samples: 211598\n"
     ]
    }
   ],
   "source": [
    "train_inputs = np.array(inputs_int)\n",
    "train_targets = np.array(targets_int)\n",
    "print(f'Training samples: {train_inputs.shape[0]}')"
   ]
  },
  {
   "cell_type": "code",
   "execution_count": 35,
   "metadata": {},
   "outputs": [],
   "source": [
    "class NextWordDataset(Dataset): #Creating the dataloader for training the models\n",
    "    def __init__(self, X, y):\n",
    "        self.X = torch.tensor(X)\n",
    "        self.y = torch.tensor(y)\n",
    "    \n",
    "    def __len__(self):\n",
    "        return len(self.X)\n",
    "    \n",
    "    def __getitem__(self, idx):\n",
    "        return self.X[idx], self.y[idx]\n",
    "\n",
    "train_dataset = NextWordDataset(train_inputs, train_targets)\n",
    "batch_size = 128\n",
    "train_loader = DataLoader(train_dataset, batch_size=batch_size, shuffle=True)"
   ]
  },
  {
   "cell_type": "code",
   "execution_count": 37,
   "metadata": {},
   "outputs": [
    {
     "name": "stdout",
     "output_type": "stream",
     "text": [
      "LSTM_Model(\n",
      "  (embeddings): Embedding(7314, 256, padding_idx=0)\n",
      "  (lstm): LSTM(256, 128, num_layers=2, batch_first=True, dropout=0.3)\n",
      "  (fc): Linear(in_features=128, out_features=7314, bias=True)\n",
      ")\n"
     ]
    }
   ],
   "source": [
    "#We first train the LSTM model\n",
    "from lstm_bilstm import LSTM_Model\n",
    "embedding_dim = 256\n",
    "hidden_size = 128\n",
    "num_layers = 2          \n",
    "lstm_dropout = 0.3\n",
    "\n",
    "lstm_model = LSTM_Model(\n",
    "    embedding_dim=embedding_dim,\n",
    "    hidden_size=hidden_size,\n",
    "    num_layers=num_layers,\n",
    "    vocab_size=vocab_size,\n",
    "    lstm_dropout=lstm_dropout,\n",
    "    bidirectional=False\n",
    ")\n",
    "lstm_model.to(device)\n",
    "criterion = nn.CrossEntropyLoss()\n",
    "optimizer = optim.Adam(\n",
    "    filter(lambda p: p.requires_grad, lstm_model.parameters()),\n",
    "    lr=0.001,\n",
    ")\n",
    "print(lstm_model)"
   ]
  },
  {
   "cell_type": "code",
   "execution_count": 38,
   "metadata": {},
   "outputs": [],
   "source": [
    "def train_model(model,train_loader,bidirectional = False):\n",
    "    if bidirectional:\n",
    "        s = 'bilstm'\n",
    "    else:\n",
    "        s = 'lstm'    \n",
    "    checkpoint_dir = file_path + '/model_checkpoints/' + s\n",
    "    num_epochs = 100\n",
    "    patience = 5\n",
    "    best_train_loss = float('inf') \n",
    "    early_stop_counter = 0\n",
    "    top_k = 5\n",
    "\n",
    "    for epoch in range(num_epochs):\n",
    "        model.train()\n",
    "        epoch_loss = 0\n",
    "        correct_topk_predictions = 0\n",
    "        total_predictions = 0\n",
    "        \n",
    "        with tqdm(train_loader, unit=\"batch\") as tepoch:\n",
    "            tepoch.set_description(f\"Epoch [{epoch+1}/{num_epochs}]\")\n",
    "            \n",
    "            for batch_X, batch_y in tepoch:\n",
    "                targets = batch_y.to(device)\n",
    "                outputs = model(batch_X.to(device)).to(device)\n",
    "                loss = criterion(outputs, targets)\n",
    "                optimizer.zero_grad()\n",
    "                loss.backward()\n",
    "                optimizer.step() \n",
    "                epoch_loss += loss.item()\n",
    "\n",
    "                _, topk_predictions = torch.topk(outputs, k=top_k, dim=1)\n",
    "                correct_topk_predictions += (topk_predictions == targets.view(-1, 1)).sum().item()\n",
    "                total_predictions += targets.size(0)\n",
    "                \n",
    "                topk_accuracy = correct_topk_predictions / total_predictions\n",
    "                tepoch.set_postfix(loss=loss.item(), topk_accuracy=topk_accuracy)\n",
    "        \n",
    "        avg_train_loss = epoch_loss / len(train_loader)\n",
    "        train_topk_accuracy = correct_topk_predictions / total_predictions\n",
    "        print(f'Epoch [{epoch+1}/{num_epochs}], Training Loss: {avg_train_loss:.4f}, Top-{top_k} Accuracy: {train_topk_accuracy:.4f}')\n",
    "        \n",
    "        if avg_train_loss < best_train_loss:\n",
    "            best_train_loss = avg_train_loss\n",
    "            early_stop_counter = 0\n",
    "            \n",
    "            checkpoint_path = os.path.join(checkpoint_dir, f'best_model.pth')\n",
    "            torch.save({\n",
    "                'epoch': epoch + 1,\n",
    "                'model_state_dict': model.state_dict(),\n",
    "                'optimizer_state_dict': optimizer.state_dict(),\n",
    "                'train_loss': avg_train_loss\n",
    "            }, checkpoint_path)\n",
    "        else:\n",
    "            early_stop_counter += 1\n",
    "            print(f'No improvement in training loss. Early stop counter: {early_stop_counter}/{patience}')\n",
    "        \n",
    "        if early_stop_counter >= patience:\n",
    "            print(\"Early stopping triggered. Stopping training.\")\n",
    "            break\n",
    "        \n"
   ]
  },
  {
   "cell_type": "code",
   "execution_count": 39,
   "metadata": {},
   "outputs": [
    {
     "name": "stderr",
     "output_type": "stream",
     "text": [
      "Epoch [1/100]: 100%|██████████| 1654/1654 [00:03<00:00, 459.62batch/s, loss=6.93, topk_accuracy=0.221]\n"
     ]
    },
    {
     "name": "stdout",
     "output_type": "stream",
     "text": [
      "Epoch [1/100], Training Loss: 6.4716, Top-5 Accuracy: 0.2210\n"
     ]
    },
    {
     "name": "stderr",
     "output_type": "stream",
     "text": [
      "Epoch [2/100]: 100%|██████████| 1654/1654 [00:03<00:00, 485.33batch/s, loss=5.74, topk_accuracy=0.282]\n"
     ]
    },
    {
     "name": "stdout",
     "output_type": "stream",
     "text": [
      "Epoch [2/100], Training Loss: 5.7979, Top-5 Accuracy: 0.2816\n"
     ]
    },
    {
     "name": "stderr",
     "output_type": "stream",
     "text": [
      "Epoch [3/100]: 100%|██████████| 1654/1654 [00:03<00:00, 481.99batch/s, loss=5.06, topk_accuracy=0.31] \n"
     ]
    },
    {
     "name": "stdout",
     "output_type": "stream",
     "text": [
      "Epoch [3/100], Training Loss: 5.4730, Top-5 Accuracy: 0.3095\n"
     ]
    },
    {
     "name": "stderr",
     "output_type": "stream",
     "text": [
      "Epoch [4/100]: 100%|██████████| 1654/1654 [00:03<00:00, 478.57batch/s, loss=5.8, topk_accuracy=0.334] \n"
     ]
    },
    {
     "name": "stdout",
     "output_type": "stream",
     "text": [
      "Epoch [4/100], Training Loss: 5.2204, Top-5 Accuracy: 0.3337\n"
     ]
    },
    {
     "name": "stderr",
     "output_type": "stream",
     "text": [
      "Epoch [5/100]: 100%|██████████| 1654/1654 [00:03<00:00, 498.40batch/s, loss=4.26, topk_accuracy=0.354]\n"
     ]
    },
    {
     "name": "stdout",
     "output_type": "stream",
     "text": [
      "Epoch [5/100], Training Loss: 5.0080, Top-5 Accuracy: 0.3536\n"
     ]
    },
    {
     "name": "stderr",
     "output_type": "stream",
     "text": [
      "Epoch [6/100]: 100%|██████████| 1654/1654 [00:03<00:00, 478.78batch/s, loss=4.5, topk_accuracy=0.37]  \n"
     ]
    },
    {
     "name": "stdout",
     "output_type": "stream",
     "text": [
      "Epoch [6/100], Training Loss: 4.8350, Top-5 Accuracy: 0.3698\n"
     ]
    },
    {
     "name": "stderr",
     "output_type": "stream",
     "text": [
      "Epoch [7/100]: 100%|██████████| 1654/1654 [00:03<00:00, 488.00batch/s, loss=3.12, topk_accuracy=0.385]\n"
     ]
    },
    {
     "name": "stdout",
     "output_type": "stream",
     "text": [
      "Epoch [7/100], Training Loss: 4.6833, Top-5 Accuracy: 0.3852\n"
     ]
    },
    {
     "name": "stderr",
     "output_type": "stream",
     "text": [
      "Epoch [8/100]: 100%|██████████| 1654/1654 [00:03<00:00, 491.40batch/s, loss=5.25, topk_accuracy=0.4]  \n"
     ]
    },
    {
     "name": "stdout",
     "output_type": "stream",
     "text": [
      "Epoch [8/100], Training Loss: 4.5577, Top-5 Accuracy: 0.3998\n"
     ]
    },
    {
     "name": "stderr",
     "output_type": "stream",
     "text": [
      "Epoch [9/100]: 100%|██████████| 1654/1654 [00:03<00:00, 495.42batch/s, loss=4.95, topk_accuracy=0.412]\n"
     ]
    },
    {
     "name": "stdout",
     "output_type": "stream",
     "text": [
      "Epoch [9/100], Training Loss: 4.4441, Top-5 Accuracy: 0.4125\n"
     ]
    },
    {
     "name": "stderr",
     "output_type": "stream",
     "text": [
      "Epoch [10/100]: 100%|██████████| 1654/1654 [00:03<00:00, 487.46batch/s, loss=3.69, topk_accuracy=0.424]\n"
     ]
    },
    {
     "name": "stdout",
     "output_type": "stream",
     "text": [
      "Epoch [10/100], Training Loss: 4.3378, Top-5 Accuracy: 0.4245\n"
     ]
    },
    {
     "name": "stderr",
     "output_type": "stream",
     "text": [
      "Epoch [11/100]: 100%|██████████| 1654/1654 [00:03<00:00, 492.72batch/s, loss=3.93, topk_accuracy=0.436]\n"
     ]
    },
    {
     "name": "stdout",
     "output_type": "stream",
     "text": [
      "Epoch [11/100], Training Loss: 4.2501, Top-5 Accuracy: 0.4362\n"
     ]
    },
    {
     "name": "stderr",
     "output_type": "stream",
     "text": [
      "Epoch [12/100]: 100%|██████████| 1654/1654 [00:03<00:00, 483.31batch/s, loss=3.18, topk_accuracy=0.446]\n"
     ]
    },
    {
     "name": "stdout",
     "output_type": "stream",
     "text": [
      "Epoch [12/100], Training Loss: 4.1636, Top-5 Accuracy: 0.4464\n"
     ]
    },
    {
     "name": "stderr",
     "output_type": "stream",
     "text": [
      "Epoch [13/100]: 100%|██████████| 1654/1654 [00:03<00:00, 487.77batch/s, loss=2.99, topk_accuracy=0.455]\n"
     ]
    },
    {
     "name": "stdout",
     "output_type": "stream",
     "text": [
      "Epoch [13/100], Training Loss: 4.0877, Top-5 Accuracy: 0.4552\n"
     ]
    },
    {
     "name": "stderr",
     "output_type": "stream",
     "text": [
      "Epoch [14/100]: 100%|██████████| 1654/1654 [00:03<00:00, 493.37batch/s, loss=3.85, topk_accuracy=0.466]\n"
     ]
    },
    {
     "name": "stdout",
     "output_type": "stream",
     "text": [
      "Epoch [14/100], Training Loss: 4.0180, Top-5 Accuracy: 0.4655\n"
     ]
    },
    {
     "name": "stderr",
     "output_type": "stream",
     "text": [
      "Epoch [15/100]: 100%|██████████| 1654/1654 [00:03<00:00, 492.99batch/s, loss=5.17, topk_accuracy=0.474]\n"
     ]
    },
    {
     "name": "stdout",
     "output_type": "stream",
     "text": [
      "Epoch [15/100], Training Loss: 3.9534, Top-5 Accuracy: 0.4743\n"
     ]
    },
    {
     "name": "stderr",
     "output_type": "stream",
     "text": [
      "Epoch [16/100]: 100%|██████████| 1654/1654 [00:03<00:00, 496.31batch/s, loss=4.09, topk_accuracy=0.483]\n"
     ]
    },
    {
     "name": "stdout",
     "output_type": "stream",
     "text": [
      "Epoch [16/100], Training Loss: 3.8939, Top-5 Accuracy: 0.4830\n"
     ]
    },
    {
     "name": "stderr",
     "output_type": "stream",
     "text": [
      "Epoch [17/100]: 100%|██████████| 1654/1654 [00:03<00:00, 476.69batch/s, loss=3.03, topk_accuracy=0.491]\n"
     ]
    },
    {
     "name": "stdout",
     "output_type": "stream",
     "text": [
      "Epoch [17/100], Training Loss: 3.8376, Top-5 Accuracy: 0.4908\n"
     ]
    },
    {
     "name": "stderr",
     "output_type": "stream",
     "text": [
      "Epoch [18/100]: 100%|██████████| 1654/1654 [00:03<00:00, 472.42batch/s, loss=3.09, topk_accuracy=0.498]\n"
     ]
    },
    {
     "name": "stdout",
     "output_type": "stream",
     "text": [
      "Epoch [18/100], Training Loss: 3.7871, Top-5 Accuracy: 0.4977\n"
     ]
    },
    {
     "name": "stderr",
     "output_type": "stream",
     "text": [
      "Epoch [19/100]: 100%|██████████| 1654/1654 [00:03<00:00, 490.36batch/s, loss=5.03, topk_accuracy=0.505]\n"
     ]
    },
    {
     "name": "stdout",
     "output_type": "stream",
     "text": [
      "Epoch [19/100], Training Loss: 3.7447, Top-5 Accuracy: 0.5046\n"
     ]
    },
    {
     "name": "stderr",
     "output_type": "stream",
     "text": [
      "Epoch [20/100]: 100%|██████████| 1654/1654 [00:03<00:00, 491.47batch/s, loss=3.21, topk_accuracy=0.51] \n"
     ]
    },
    {
     "name": "stdout",
     "output_type": "stream",
     "text": [
      "Epoch [20/100], Training Loss: 3.6940, Top-5 Accuracy: 0.5101\n"
     ]
    },
    {
     "name": "stderr",
     "output_type": "stream",
     "text": [
      "Epoch [21/100]: 100%|██████████| 1654/1654 [00:03<00:00, 483.03batch/s, loss=3.27, topk_accuracy=0.517]\n"
     ]
    },
    {
     "name": "stdout",
     "output_type": "stream",
     "text": [
      "Epoch [21/100], Training Loss: 3.6523, Top-5 Accuracy: 0.5169\n"
     ]
    },
    {
     "name": "stderr",
     "output_type": "stream",
     "text": [
      "Epoch [22/100]: 100%|██████████| 1654/1654 [00:03<00:00, 478.96batch/s, loss=3.07, topk_accuracy=0.522]\n"
     ]
    },
    {
     "name": "stdout",
     "output_type": "stream",
     "text": [
      "Epoch [22/100], Training Loss: 3.6128, Top-5 Accuracy: 0.5219\n"
     ]
    },
    {
     "name": "stderr",
     "output_type": "stream",
     "text": [
      "Epoch [23/100]: 100%|██████████| 1654/1654 [00:03<00:00, 470.40batch/s, loss=2.73, topk_accuracy=0.527]\n"
     ]
    },
    {
     "name": "stdout",
     "output_type": "stream",
     "text": [
      "Epoch [23/100], Training Loss: 3.5789, Top-5 Accuracy: 0.5275\n"
     ]
    },
    {
     "name": "stderr",
     "output_type": "stream",
     "text": [
      "Epoch [24/100]: 100%|██████████| 1654/1654 [00:03<00:00, 435.08batch/s, loss=4.03, topk_accuracy=0.533]\n"
     ]
    },
    {
     "name": "stdout",
     "output_type": "stream",
     "text": [
      "Epoch [24/100], Training Loss: 3.5442, Top-5 Accuracy: 0.5327\n"
     ]
    },
    {
     "name": "stderr",
     "output_type": "stream",
     "text": [
      "Epoch [25/100]: 100%|██████████| 1654/1654 [00:03<00:00, 491.22batch/s, loss=2.9, topk_accuracy=0.538] \n"
     ]
    },
    {
     "name": "stdout",
     "output_type": "stream",
     "text": [
      "Epoch [25/100], Training Loss: 3.5093, Top-5 Accuracy: 0.5377\n"
     ]
    },
    {
     "name": "stderr",
     "output_type": "stream",
     "text": [
      "Epoch [26/100]: 100%|██████████| 1654/1654 [00:03<00:00, 485.39batch/s, loss=2.44, topk_accuracy=0.543]\n"
     ]
    },
    {
     "name": "stdout",
     "output_type": "stream",
     "text": [
      "Epoch [26/100], Training Loss: 3.4786, Top-5 Accuracy: 0.5427\n"
     ]
    },
    {
     "name": "stderr",
     "output_type": "stream",
     "text": [
      "Epoch [27/100]: 100%|██████████| 1654/1654 [00:03<00:00, 466.13batch/s, loss=3.9, topk_accuracy=0.545] \n"
     ]
    },
    {
     "name": "stdout",
     "output_type": "stream",
     "text": [
      "Epoch [27/100], Training Loss: 3.4545, Top-5 Accuracy: 0.5451\n"
     ]
    },
    {
     "name": "stderr",
     "output_type": "stream",
     "text": [
      "Epoch [28/100]: 100%|██████████| 1654/1654 [00:03<00:00, 484.26batch/s, loss=3.74, topk_accuracy=0.55] \n"
     ]
    },
    {
     "name": "stdout",
     "output_type": "stream",
     "text": [
      "Epoch [28/100], Training Loss: 3.4228, Top-5 Accuracy: 0.5501\n"
     ]
    },
    {
     "name": "stderr",
     "output_type": "stream",
     "text": [
      "Epoch [29/100]: 100%|██████████| 1654/1654 [00:03<00:00, 447.91batch/s, loss=1.92, topk_accuracy=0.554]\n"
     ]
    },
    {
     "name": "stdout",
     "output_type": "stream",
     "text": [
      "Epoch [29/100], Training Loss: 3.3945, Top-5 Accuracy: 0.5543\n"
     ]
    },
    {
     "name": "stderr",
     "output_type": "stream",
     "text": [
      "Epoch [30/100]: 100%|██████████| 1654/1654 [00:03<00:00, 451.97batch/s, loss=3.16, topk_accuracy=0.557]\n"
     ]
    },
    {
     "name": "stdout",
     "output_type": "stream",
     "text": [
      "Epoch [30/100], Training Loss: 3.3679, Top-5 Accuracy: 0.5572\n"
     ]
    },
    {
     "name": "stderr",
     "output_type": "stream",
     "text": [
      "Epoch [31/100]: 100%|██████████| 1654/1654 [00:03<00:00, 478.61batch/s, loss=3.59, topk_accuracy=0.561]\n"
     ]
    },
    {
     "name": "stdout",
     "output_type": "stream",
     "text": [
      "Epoch [31/100], Training Loss: 3.3442, Top-5 Accuracy: 0.5614\n"
     ]
    },
    {
     "name": "stderr",
     "output_type": "stream",
     "text": [
      "Epoch [32/100]: 100%|██████████| 1654/1654 [00:03<00:00, 455.76batch/s, loss=2.1, topk_accuracy=0.566] \n"
     ]
    },
    {
     "name": "stdout",
     "output_type": "stream",
     "text": [
      "Epoch [32/100], Training Loss: 3.3187, Top-5 Accuracy: 0.5657\n"
     ]
    },
    {
     "name": "stderr",
     "output_type": "stream",
     "text": [
      "Epoch [33/100]: 100%|██████████| 1654/1654 [00:03<00:00, 485.75batch/s, loss=3.25, topk_accuracy=0.567]\n"
     ]
    },
    {
     "name": "stdout",
     "output_type": "stream",
     "text": [
      "Epoch [33/100], Training Loss: 3.3022, Top-5 Accuracy: 0.5669\n"
     ]
    },
    {
     "name": "stderr",
     "output_type": "stream",
     "text": [
      "Epoch [34/100]: 100%|██████████| 1654/1654 [00:03<00:00, 481.19batch/s, loss=3.86, topk_accuracy=0.571]\n"
     ]
    },
    {
     "name": "stdout",
     "output_type": "stream",
     "text": [
      "Epoch [34/100], Training Loss: 3.2794, Top-5 Accuracy: 0.5707\n"
     ]
    },
    {
     "name": "stderr",
     "output_type": "stream",
     "text": [
      "Epoch [35/100]: 100%|██████████| 1654/1654 [00:03<00:00, 499.55batch/s, loss=2.68, topk_accuracy=0.573]\n"
     ]
    },
    {
     "name": "stdout",
     "output_type": "stream",
     "text": [
      "Epoch [35/100], Training Loss: 3.2621, Top-5 Accuracy: 0.5727\n"
     ]
    },
    {
     "name": "stderr",
     "output_type": "stream",
     "text": [
      "Epoch [36/100]: 100%|██████████| 1654/1654 [00:03<00:00, 465.49batch/s, loss=3.48, topk_accuracy=0.575]\n"
     ]
    },
    {
     "name": "stdout",
     "output_type": "stream",
     "text": [
      "Epoch [36/100], Training Loss: 3.2433, Top-5 Accuracy: 0.5754\n"
     ]
    },
    {
     "name": "stderr",
     "output_type": "stream",
     "text": [
      "Epoch [37/100]: 100%|██████████| 1654/1654 [00:03<00:00, 475.94batch/s, loss=2.58, topk_accuracy=0.579]\n"
     ]
    },
    {
     "name": "stdout",
     "output_type": "stream",
     "text": [
      "Epoch [37/100], Training Loss: 3.2231, Top-5 Accuracy: 0.5789\n"
     ]
    },
    {
     "name": "stderr",
     "output_type": "stream",
     "text": [
      "Epoch [38/100]: 100%|██████████| 1654/1654 [00:03<00:00, 497.75batch/s, loss=3.41, topk_accuracy=0.582]\n"
     ]
    },
    {
     "name": "stdout",
     "output_type": "stream",
     "text": [
      "Epoch [38/100], Training Loss: 3.2062, Top-5 Accuracy: 0.5824\n"
     ]
    },
    {
     "name": "stderr",
     "output_type": "stream",
     "text": [
      "Epoch [39/100]: 100%|██████████| 1654/1654 [00:03<00:00, 494.72batch/s, loss=3.41, topk_accuracy=0.585]\n"
     ]
    },
    {
     "name": "stdout",
     "output_type": "stream",
     "text": [
      "Epoch [39/100], Training Loss: 3.1849, Top-5 Accuracy: 0.5846\n"
     ]
    },
    {
     "name": "stderr",
     "output_type": "stream",
     "text": [
      "Epoch [40/100]: 100%|██████████| 1654/1654 [00:03<00:00, 485.09batch/s, loss=3.01, topk_accuracy=0.587]\n"
     ]
    },
    {
     "name": "stdout",
     "output_type": "stream",
     "text": [
      "Epoch [40/100], Training Loss: 3.1728, Top-5 Accuracy: 0.5865\n"
     ]
    },
    {
     "name": "stderr",
     "output_type": "stream",
     "text": [
      "Epoch [41/100]: 100%|██████████| 1654/1654 [00:03<00:00, 480.92batch/s, loss=1.91, topk_accuracy=0.589]\n"
     ]
    },
    {
     "name": "stdout",
     "output_type": "stream",
     "text": [
      "Epoch [41/100], Training Loss: 3.1580, Top-5 Accuracy: 0.5886\n"
     ]
    },
    {
     "name": "stderr",
     "output_type": "stream",
     "text": [
      "Epoch [42/100]: 100%|██████████| 1654/1654 [00:03<00:00, 453.12batch/s, loss=2.75, topk_accuracy=0.591]\n"
     ]
    },
    {
     "name": "stdout",
     "output_type": "stream",
     "text": [
      "Epoch [42/100], Training Loss: 3.1396, Top-5 Accuracy: 0.5914\n"
     ]
    },
    {
     "name": "stderr",
     "output_type": "stream",
     "text": [
      "Epoch [43/100]: 100%|██████████| 1654/1654 [00:03<00:00, 477.41batch/s, loss=4.12, topk_accuracy=0.593]\n"
     ]
    },
    {
     "name": "stdout",
     "output_type": "stream",
     "text": [
      "Epoch [43/100], Training Loss: 3.1241, Top-5 Accuracy: 0.5932\n"
     ]
    },
    {
     "name": "stderr",
     "output_type": "stream",
     "text": [
      "Epoch [44/100]: 100%|██████████| 1654/1654 [00:03<00:00, 477.28batch/s, loss=3.11, topk_accuracy=0.596]\n"
     ]
    },
    {
     "name": "stdout",
     "output_type": "stream",
     "text": [
      "Epoch [44/100], Training Loss: 3.1100, Top-5 Accuracy: 0.5960\n"
     ]
    },
    {
     "name": "stderr",
     "output_type": "stream",
     "text": [
      "Epoch [45/100]: 100%|██████████| 1654/1654 [00:03<00:00, 485.91batch/s, loss=3.5, topk_accuracy=0.598] \n"
     ]
    },
    {
     "name": "stdout",
     "output_type": "stream",
     "text": [
      "Epoch [45/100], Training Loss: 3.0942, Top-5 Accuracy: 0.5981\n"
     ]
    },
    {
     "name": "stderr",
     "output_type": "stream",
     "text": [
      "Epoch [46/100]: 100%|██████████| 1654/1654 [00:03<00:00, 463.48batch/s, loss=2.54, topk_accuracy=0.6]  \n"
     ]
    },
    {
     "name": "stdout",
     "output_type": "stream",
     "text": [
      "Epoch [46/100], Training Loss: 3.0819, Top-5 Accuracy: 0.5997\n"
     ]
    },
    {
     "name": "stderr",
     "output_type": "stream",
     "text": [
      "Epoch [47/100]: 100%|██████████| 1654/1654 [00:03<00:00, 443.96batch/s, loss=3.35, topk_accuracy=0.602]\n"
     ]
    },
    {
     "name": "stdout",
     "output_type": "stream",
     "text": [
      "Epoch [47/100], Training Loss: 3.0685, Top-5 Accuracy: 0.6020\n"
     ]
    },
    {
     "name": "stderr",
     "output_type": "stream",
     "text": [
      "Epoch [48/100]: 100%|██████████| 1654/1654 [00:03<00:00, 484.13batch/s, loss=3.32, topk_accuracy=0.604]\n"
     ]
    },
    {
     "name": "stdout",
     "output_type": "stream",
     "text": [
      "Epoch [48/100], Training Loss: 3.0565, Top-5 Accuracy: 0.6039\n"
     ]
    },
    {
     "name": "stderr",
     "output_type": "stream",
     "text": [
      "Epoch [49/100]: 100%|██████████| 1654/1654 [00:03<00:00, 491.98batch/s, loss=2.88, topk_accuracy=0.605]\n"
     ]
    },
    {
     "name": "stdout",
     "output_type": "stream",
     "text": [
      "Epoch [49/100], Training Loss: 3.0471, Top-5 Accuracy: 0.6051\n"
     ]
    },
    {
     "name": "stderr",
     "output_type": "stream",
     "text": [
      "Epoch [50/100]: 100%|██████████| 1654/1654 [00:03<00:00, 479.01batch/s, loss=2.5, topk_accuracy=0.607] \n"
     ]
    },
    {
     "name": "stdout",
     "output_type": "stream",
     "text": [
      "Epoch [50/100], Training Loss: 3.0350, Top-5 Accuracy: 0.6069\n"
     ]
    },
    {
     "name": "stderr",
     "output_type": "stream",
     "text": [
      "Epoch [51/100]: 100%|██████████| 1654/1654 [00:03<00:00, 495.45batch/s, loss=3.32, topk_accuracy=0.609]\n"
     ]
    },
    {
     "name": "stdout",
     "output_type": "stream",
     "text": [
      "Epoch [51/100], Training Loss: 3.0255, Top-5 Accuracy: 0.6092\n"
     ]
    },
    {
     "name": "stderr",
     "output_type": "stream",
     "text": [
      "Epoch [52/100]: 100%|██████████| 1654/1654 [00:03<00:00, 495.79batch/s, loss=4.46, topk_accuracy=0.611]\n"
     ]
    },
    {
     "name": "stdout",
     "output_type": "stream",
     "text": [
      "Epoch [52/100], Training Loss: 3.0121, Top-5 Accuracy: 0.6106\n"
     ]
    },
    {
     "name": "stderr",
     "output_type": "stream",
     "text": [
      "Epoch [53/100]: 100%|██████████| 1654/1654 [00:03<00:00, 491.16batch/s, loss=2.65, topk_accuracy=0.611]\n"
     ]
    },
    {
     "name": "stdout",
     "output_type": "stream",
     "text": [
      "Epoch [53/100], Training Loss: 3.0006, Top-5 Accuracy: 0.6109\n"
     ]
    },
    {
     "name": "stderr",
     "output_type": "stream",
     "text": [
      "Epoch [54/100]: 100%|██████████| 1654/1654 [00:03<00:00, 487.29batch/s, loss=3.62, topk_accuracy=0.614]\n"
     ]
    },
    {
     "name": "stdout",
     "output_type": "stream",
     "text": [
      "Epoch [54/100], Training Loss: 2.9914, Top-5 Accuracy: 0.6139\n"
     ]
    },
    {
     "name": "stderr",
     "output_type": "stream",
     "text": [
      "Epoch [55/100]: 100%|██████████| 1654/1654 [00:03<00:00, 493.36batch/s, loss=2.45, topk_accuracy=0.616]\n"
     ]
    },
    {
     "name": "stdout",
     "output_type": "stream",
     "text": [
      "Epoch [55/100], Training Loss: 2.9793, Top-5 Accuracy: 0.6160\n"
     ]
    },
    {
     "name": "stderr",
     "output_type": "stream",
     "text": [
      "Epoch [56/100]: 100%|██████████| 1654/1654 [00:03<00:00, 484.99batch/s, loss=4.09, topk_accuracy=0.616]\n"
     ]
    },
    {
     "name": "stdout",
     "output_type": "stream",
     "text": [
      "Epoch [56/100], Training Loss: 2.9701, Top-5 Accuracy: 0.6163\n"
     ]
    },
    {
     "name": "stderr",
     "output_type": "stream",
     "text": [
      "Epoch [57/100]: 100%|██████████| 1654/1654 [00:03<00:00, 461.36batch/s, loss=2.58, topk_accuracy=0.618]\n"
     ]
    },
    {
     "name": "stdout",
     "output_type": "stream",
     "text": [
      "Epoch [57/100], Training Loss: 2.9564, Top-5 Accuracy: 0.6176\n"
     ]
    },
    {
     "name": "stderr",
     "output_type": "stream",
     "text": [
      "Epoch [58/100]: 100%|██████████| 1654/1654 [00:03<00:00, 487.85batch/s, loss=2.76, topk_accuracy=0.62] \n"
     ]
    },
    {
     "name": "stdout",
     "output_type": "stream",
     "text": [
      "Epoch [58/100], Training Loss: 2.9483, Top-5 Accuracy: 0.6197\n"
     ]
    },
    {
     "name": "stderr",
     "output_type": "stream",
     "text": [
      "Epoch [59/100]: 100%|██████████| 1654/1654 [00:03<00:00, 469.07batch/s, loss=3.56, topk_accuracy=0.62] \n"
     ]
    },
    {
     "name": "stdout",
     "output_type": "stream",
     "text": [
      "Epoch [59/100], Training Loss: 2.9438, Top-5 Accuracy: 0.6196\n"
     ]
    },
    {
     "name": "stderr",
     "output_type": "stream",
     "text": [
      "Epoch [60/100]: 100%|██████████| 1654/1654 [00:03<00:00, 477.06batch/s, loss=3.22, topk_accuracy=0.623]\n"
     ]
    },
    {
     "name": "stdout",
     "output_type": "stream",
     "text": [
      "Epoch [60/100], Training Loss: 2.9304, Top-5 Accuracy: 0.6230\n"
     ]
    },
    {
     "name": "stderr",
     "output_type": "stream",
     "text": [
      "Epoch [61/100]: 100%|██████████| 1654/1654 [00:03<00:00, 480.02batch/s, loss=2.79, topk_accuracy=0.623]\n"
     ]
    },
    {
     "name": "stdout",
     "output_type": "stream",
     "text": [
      "Epoch [61/100], Training Loss: 2.9253, Top-5 Accuracy: 0.6230\n"
     ]
    },
    {
     "name": "stderr",
     "output_type": "stream",
     "text": [
      "Epoch [62/100]: 100%|██████████| 1654/1654 [00:03<00:00, 454.49batch/s, loss=2.78, topk_accuracy=0.625]\n"
     ]
    },
    {
     "name": "stdout",
     "output_type": "stream",
     "text": [
      "Epoch [62/100], Training Loss: 2.9180, Top-5 Accuracy: 0.6250\n"
     ]
    },
    {
     "name": "stderr",
     "output_type": "stream",
     "text": [
      "Epoch [63/100]: 100%|██████████| 1654/1654 [00:03<00:00, 472.77batch/s, loss=3.28, topk_accuracy=0.625]\n"
     ]
    },
    {
     "name": "stdout",
     "output_type": "stream",
     "text": [
      "Epoch [63/100], Training Loss: 2.9084, Top-5 Accuracy: 0.6255\n"
     ]
    },
    {
     "name": "stderr",
     "output_type": "stream",
     "text": [
      "Epoch [64/100]: 100%|██████████| 1654/1654 [00:03<00:00, 469.60batch/s, loss=3.54, topk_accuracy=0.626]\n"
     ]
    },
    {
     "name": "stdout",
     "output_type": "stream",
     "text": [
      "Epoch [64/100], Training Loss: 2.9005, Top-5 Accuracy: 0.6264\n"
     ]
    },
    {
     "name": "stderr",
     "output_type": "stream",
     "text": [
      "Epoch [65/100]: 100%|██████████| 1654/1654 [00:03<00:00, 465.20batch/s, loss=3.4, topk_accuracy=0.628] \n"
     ]
    },
    {
     "name": "stdout",
     "output_type": "stream",
     "text": [
      "Epoch [65/100], Training Loss: 2.8912, Top-5 Accuracy: 0.6282\n"
     ]
    },
    {
     "name": "stderr",
     "output_type": "stream",
     "text": [
      "Epoch [66/100]: 100%|██████████| 1654/1654 [00:03<00:00, 470.32batch/s, loss=1.94, topk_accuracy=0.628]\n"
     ]
    },
    {
     "name": "stdout",
     "output_type": "stream",
     "text": [
      "Epoch [66/100], Training Loss: 2.8877, Top-5 Accuracy: 0.6276\n"
     ]
    },
    {
     "name": "stderr",
     "output_type": "stream",
     "text": [
      "Epoch [67/100]: 100%|██████████| 1654/1654 [00:03<00:00, 489.55batch/s, loss=3.21, topk_accuracy=0.63] \n"
     ]
    },
    {
     "name": "stdout",
     "output_type": "stream",
     "text": [
      "Epoch [67/100], Training Loss: 2.8777, Top-5 Accuracy: 0.6298\n"
     ]
    },
    {
     "name": "stderr",
     "output_type": "stream",
     "text": [
      "Epoch [68/100]: 100%|██████████| 1654/1654 [00:03<00:00, 485.27batch/s, loss=3.2, topk_accuracy=0.632] \n"
     ]
    },
    {
     "name": "stdout",
     "output_type": "stream",
     "text": [
      "Epoch [68/100], Training Loss: 2.8663, Top-5 Accuracy: 0.6317\n"
     ]
    },
    {
     "name": "stderr",
     "output_type": "stream",
     "text": [
      "Epoch [69/100]: 100%|██████████| 1654/1654 [00:03<00:00, 487.64batch/s, loss=3.22, topk_accuracy=0.632]\n"
     ]
    },
    {
     "name": "stdout",
     "output_type": "stream",
     "text": [
      "Epoch [69/100], Training Loss: 2.8632, Top-5 Accuracy: 0.6318\n"
     ]
    },
    {
     "name": "stderr",
     "output_type": "stream",
     "text": [
      "Epoch [70/100]: 100%|██████████| 1654/1654 [00:03<00:00, 485.95batch/s, loss=2.5, topk_accuracy=0.633] \n"
     ]
    },
    {
     "name": "stdout",
     "output_type": "stream",
     "text": [
      "Epoch [70/100], Training Loss: 2.8594, Top-5 Accuracy: 0.6332\n"
     ]
    },
    {
     "name": "stderr",
     "output_type": "stream",
     "text": [
      "Epoch [71/100]: 100%|██████████| 1654/1654 [00:03<00:00, 466.38batch/s, loss=3.69, topk_accuracy=0.634]\n"
     ]
    },
    {
     "name": "stdout",
     "output_type": "stream",
     "text": [
      "Epoch [71/100], Training Loss: 2.8506, Top-5 Accuracy: 0.6335\n"
     ]
    },
    {
     "name": "stderr",
     "output_type": "stream",
     "text": [
      "Epoch [72/100]: 100%|██████████| 1654/1654 [00:03<00:00, 482.34batch/s, loss=3.33, topk_accuracy=0.634]\n"
     ]
    },
    {
     "name": "stdout",
     "output_type": "stream",
     "text": [
      "Epoch [72/100], Training Loss: 2.8430, Top-5 Accuracy: 0.6343\n"
     ]
    },
    {
     "name": "stderr",
     "output_type": "stream",
     "text": [
      "Epoch [73/100]: 100%|██████████| 1654/1654 [00:03<00:00, 494.90batch/s, loss=2.83, topk_accuracy=0.636]\n"
     ]
    },
    {
     "name": "stdout",
     "output_type": "stream",
     "text": [
      "Epoch [73/100], Training Loss: 2.8359, Top-5 Accuracy: 0.6363\n"
     ]
    },
    {
     "name": "stderr",
     "output_type": "stream",
     "text": [
      "Epoch [74/100]: 100%|██████████| 1654/1654 [00:03<00:00, 464.55batch/s, loss=3.36, topk_accuracy=0.636]\n"
     ]
    },
    {
     "name": "stdout",
     "output_type": "stream",
     "text": [
      "Epoch [74/100], Training Loss: 2.8332, Top-5 Accuracy: 0.6365\n"
     ]
    },
    {
     "name": "stderr",
     "output_type": "stream",
     "text": [
      "Epoch [75/100]: 100%|██████████| 1654/1654 [00:03<00:00, 476.05batch/s, loss=1.7, topk_accuracy=0.638] \n"
     ]
    },
    {
     "name": "stdout",
     "output_type": "stream",
     "text": [
      "Epoch [75/100], Training Loss: 2.8247, Top-5 Accuracy: 0.6379\n"
     ]
    },
    {
     "name": "stderr",
     "output_type": "stream",
     "text": [
      "Epoch [76/100]: 100%|██████████| 1654/1654 [00:03<00:00, 484.52batch/s, loss=1.93, topk_accuracy=0.639]\n"
     ]
    },
    {
     "name": "stdout",
     "output_type": "stream",
     "text": [
      "Epoch [76/100], Training Loss: 2.8197, Top-5 Accuracy: 0.6392\n"
     ]
    },
    {
     "name": "stderr",
     "output_type": "stream",
     "text": [
      "Epoch [77/100]: 100%|██████████| 1654/1654 [00:03<00:00, 471.34batch/s, loss=3.23, topk_accuracy=0.639]\n"
     ]
    },
    {
     "name": "stdout",
     "output_type": "stream",
     "text": [
      "Epoch [77/100], Training Loss: 2.8118, Top-5 Accuracy: 0.6386\n"
     ]
    },
    {
     "name": "stderr",
     "output_type": "stream",
     "text": [
      "Epoch [78/100]: 100%|██████████| 1654/1654 [00:03<00:00, 459.67batch/s, loss=2.67, topk_accuracy=0.641]\n"
     ]
    },
    {
     "name": "stdout",
     "output_type": "stream",
     "text": [
      "Epoch [78/100], Training Loss: 2.8026, Top-5 Accuracy: 0.6410\n"
     ]
    },
    {
     "name": "stderr",
     "output_type": "stream",
     "text": [
      "Epoch [79/100]: 100%|██████████| 1654/1654 [00:03<00:00, 487.62batch/s, loss=2.94, topk_accuracy=0.641]\n"
     ]
    },
    {
     "name": "stdout",
     "output_type": "stream",
     "text": [
      "Epoch [79/100], Training Loss: 2.8008, Top-5 Accuracy: 0.6409\n"
     ]
    },
    {
     "name": "stderr",
     "output_type": "stream",
     "text": [
      "Epoch [80/100]: 100%|██████████| 1654/1654 [00:03<00:00, 500.21batch/s, loss=2.92, topk_accuracy=0.643]\n"
     ]
    },
    {
     "name": "stdout",
     "output_type": "stream",
     "text": [
      "Epoch [80/100], Training Loss: 2.7948, Top-5 Accuracy: 0.6427\n"
     ]
    },
    {
     "name": "stderr",
     "output_type": "stream",
     "text": [
      "Epoch [81/100]: 100%|██████████| 1654/1654 [00:03<00:00, 487.17batch/s, loss=2.56, topk_accuracy=0.643]\n"
     ]
    },
    {
     "name": "stdout",
     "output_type": "stream",
     "text": [
      "Epoch [81/100], Training Loss: 2.7909, Top-5 Accuracy: 0.6426\n"
     ]
    },
    {
     "name": "stderr",
     "output_type": "stream",
     "text": [
      "Epoch [82/100]: 100%|██████████| 1654/1654 [00:03<00:00, 473.03batch/s, loss=2.85, topk_accuracy=0.644]\n"
     ]
    },
    {
     "name": "stdout",
     "output_type": "stream",
     "text": [
      "Epoch [82/100], Training Loss: 2.7834, Top-5 Accuracy: 0.6438\n"
     ]
    },
    {
     "name": "stderr",
     "output_type": "stream",
     "text": [
      "Epoch [83/100]: 100%|██████████| 1654/1654 [00:03<00:00, 462.58batch/s, loss=2.71, topk_accuracy=0.645]\n"
     ]
    },
    {
     "name": "stdout",
     "output_type": "stream",
     "text": [
      "Epoch [83/100], Training Loss: 2.7758, Top-5 Accuracy: 0.6452\n"
     ]
    },
    {
     "name": "stderr",
     "output_type": "stream",
     "text": [
      "Epoch [84/100]: 100%|██████████| 1654/1654 [00:03<00:00, 479.85batch/s, loss=2.53, topk_accuracy=0.644]\n"
     ]
    },
    {
     "name": "stdout",
     "output_type": "stream",
     "text": [
      "Epoch [84/100], Training Loss: 2.7713, Top-5 Accuracy: 0.6443\n"
     ]
    },
    {
     "name": "stderr",
     "output_type": "stream",
     "text": [
      "Epoch [85/100]: 100%|██████████| 1654/1654 [00:03<00:00, 497.17batch/s, loss=2.62, topk_accuracy=0.646]\n"
     ]
    },
    {
     "name": "stdout",
     "output_type": "stream",
     "text": [
      "Epoch [85/100], Training Loss: 2.7695, Top-5 Accuracy: 0.6459\n"
     ]
    },
    {
     "name": "stderr",
     "output_type": "stream",
     "text": [
      "Epoch [86/100]: 100%|██████████| 1654/1654 [00:03<00:00, 464.56batch/s, loss=2.91, topk_accuracy=0.647]\n"
     ]
    },
    {
     "name": "stdout",
     "output_type": "stream",
     "text": [
      "Epoch [86/100], Training Loss: 2.7669, Top-5 Accuracy: 0.6469\n"
     ]
    },
    {
     "name": "stderr",
     "output_type": "stream",
     "text": [
      "Epoch [87/100]: 100%|██████████| 1654/1654 [00:03<00:00, 493.03batch/s, loss=2.59, topk_accuracy=0.648]\n"
     ]
    },
    {
     "name": "stdout",
     "output_type": "stream",
     "text": [
      "Epoch [87/100], Training Loss: 2.7579, Top-5 Accuracy: 0.6482\n"
     ]
    },
    {
     "name": "stderr",
     "output_type": "stream",
     "text": [
      "Epoch [88/100]: 100%|██████████| 1654/1654 [00:03<00:00, 486.45batch/s, loss=2.97, topk_accuracy=0.649]\n"
     ]
    },
    {
     "name": "stdout",
     "output_type": "stream",
     "text": [
      "Epoch [88/100], Training Loss: 2.7512, Top-5 Accuracy: 0.6490\n"
     ]
    },
    {
     "name": "stderr",
     "output_type": "stream",
     "text": [
      "Epoch [89/100]: 100%|██████████| 1654/1654 [00:03<00:00, 503.71batch/s, loss=3.39, topk_accuracy=0.649]\n"
     ]
    },
    {
     "name": "stdout",
     "output_type": "stream",
     "text": [
      "Epoch [89/100], Training Loss: 2.7470, Top-5 Accuracy: 0.6488\n"
     ]
    },
    {
     "name": "stderr",
     "output_type": "stream",
     "text": [
      "Epoch [90/100]: 100%|██████████| 1654/1654 [00:03<00:00, 488.01batch/s, loss=4.59, topk_accuracy=0.65] \n"
     ]
    },
    {
     "name": "stdout",
     "output_type": "stream",
     "text": [
      "Epoch [90/100], Training Loss: 2.7443, Top-5 Accuracy: 0.6496\n"
     ]
    },
    {
     "name": "stderr",
     "output_type": "stream",
     "text": [
      "Epoch [91/100]: 100%|██████████| 1654/1654 [00:03<00:00, 490.65batch/s, loss=2.08, topk_accuracy=0.65] \n"
     ]
    },
    {
     "name": "stdout",
     "output_type": "stream",
     "text": [
      "Epoch [91/100], Training Loss: 2.7431, Top-5 Accuracy: 0.6497\n"
     ]
    },
    {
     "name": "stderr",
     "output_type": "stream",
     "text": [
      "Epoch [92/100]: 100%|██████████| 1654/1654 [00:03<00:00, 475.83batch/s, loss=3.14, topk_accuracy=0.652]\n"
     ]
    },
    {
     "name": "stdout",
     "output_type": "stream",
     "text": [
      "Epoch [92/100], Training Loss: 2.7346, Top-5 Accuracy: 0.6518\n"
     ]
    },
    {
     "name": "stderr",
     "output_type": "stream",
     "text": [
      "Epoch [93/100]: 100%|██████████| 1654/1654 [00:03<00:00, 477.06batch/s, loss=2.34, topk_accuracy=0.652]\n"
     ]
    },
    {
     "name": "stdout",
     "output_type": "stream",
     "text": [
      "Epoch [93/100], Training Loss: 2.7291, Top-5 Accuracy: 0.6519\n"
     ]
    },
    {
     "name": "stderr",
     "output_type": "stream",
     "text": [
      "Epoch [94/100]: 100%|██████████| 1654/1654 [00:03<00:00, 475.90batch/s, loss=2.53, topk_accuracy=0.653]\n"
     ]
    },
    {
     "name": "stdout",
     "output_type": "stream",
     "text": [
      "Epoch [94/100], Training Loss: 2.7240, Top-5 Accuracy: 0.6530\n"
     ]
    },
    {
     "name": "stderr",
     "output_type": "stream",
     "text": [
      "Epoch [95/100]: 100%|██████████| 1654/1654 [00:03<00:00, 472.93batch/s, loss=2.79, topk_accuracy=0.653]\n"
     ]
    },
    {
     "name": "stdout",
     "output_type": "stream",
     "text": [
      "Epoch [95/100], Training Loss: 2.7231, Top-5 Accuracy: 0.6530\n"
     ]
    },
    {
     "name": "stderr",
     "output_type": "stream",
     "text": [
      "Epoch [96/100]: 100%|██████████| 1654/1654 [00:03<00:00, 469.91batch/s, loss=2.87, topk_accuracy=0.654]\n"
     ]
    },
    {
     "name": "stdout",
     "output_type": "stream",
     "text": [
      "Epoch [96/100], Training Loss: 2.7166, Top-5 Accuracy: 0.6540\n"
     ]
    },
    {
     "name": "stderr",
     "output_type": "stream",
     "text": [
      "Epoch [97/100]: 100%|██████████| 1654/1654 [00:03<00:00, 476.96batch/s, loss=2.28, topk_accuracy=0.653]\n"
     ]
    },
    {
     "name": "stdout",
     "output_type": "stream",
     "text": [
      "Epoch [97/100], Training Loss: 2.7147, Top-5 Accuracy: 0.6535\n"
     ]
    },
    {
     "name": "stderr",
     "output_type": "stream",
     "text": [
      "Epoch [98/100]: 100%|██████████| 1654/1654 [00:03<00:00, 472.07batch/s, loss=2.13, topk_accuracy=0.656]\n"
     ]
    },
    {
     "name": "stdout",
     "output_type": "stream",
     "text": [
      "Epoch [98/100], Training Loss: 2.7054, Top-5 Accuracy: 0.6557\n"
     ]
    },
    {
     "name": "stderr",
     "output_type": "stream",
     "text": [
      "Epoch [99/100]: 100%|██████████| 1654/1654 [00:03<00:00, 475.36batch/s, loss=2.64, topk_accuracy=0.655]\n"
     ]
    },
    {
     "name": "stdout",
     "output_type": "stream",
     "text": [
      "Epoch [99/100], Training Loss: 2.7041, Top-5 Accuracy: 0.6555\n"
     ]
    },
    {
     "name": "stderr",
     "output_type": "stream",
     "text": [
      "Epoch [100/100]: 100%|██████████| 1654/1654 [00:03<00:00, 492.80batch/s, loss=2.38, topk_accuracy=0.655]\n"
     ]
    },
    {
     "name": "stdout",
     "output_type": "stream",
     "text": [
      "Epoch [100/100], Training Loss: 2.7040, Top-5 Accuracy: 0.6546\n"
     ]
    }
   ],
   "source": [
    "#Training the LSTM model\n",
    "train_model(model=lstm_model,train_loader=train_loader,bidirectional=False)"
   ]
  },
  {
   "cell_type": "code",
   "execution_count": 40,
   "metadata": {},
   "outputs": [
    {
     "name": "stdout",
     "output_type": "stream",
     "text": [
      "LSTM_Model(\n",
      "  (embeddings): Embedding(7314, 256, padding_idx=0)\n",
      "  (lstm): LSTM(256, 128, num_layers=2, batch_first=True, dropout=0.3, bidirectional=True)\n",
      "  (fc): Linear(in_features=256, out_features=7314, bias=True)\n",
      ")\n"
     ]
    }
   ],
   "source": [
    "#Now we train the bidirectional LSTM model\n",
    "embedding_dim = 256\n",
    "hidden_size = 128\n",
    "num_layers = 2         \n",
    "lstm_dropout = 0.3\n",
    "\n",
    "bilstm_model = LSTM_Model(\n",
    "    embedding_dim=embedding_dim,\n",
    "    hidden_size=hidden_size,\n",
    "    num_layers=num_layers,\n",
    "    vocab_size=vocab_size,\n",
    "    lstm_dropout=lstm_dropout,\n",
    "    bidirectional=True\n",
    ")\n",
    "bilstm_model.to(device)\n",
    "criterion = nn.CrossEntropyLoss()\n",
    "optimizer = optim.Adam(\n",
    "    filter(lambda p: p.requires_grad, bilstm_model.parameters()),\n",
    "    lr=0.001,\n",
    ")\n",
    "print(bilstm_model)"
   ]
  },
  {
   "cell_type": "code",
   "execution_count": 41,
   "metadata": {},
   "outputs": [
    {
     "name": "stderr",
     "output_type": "stream",
     "text": [
      "Epoch [1/100]: 100%|██████████| 1654/1654 [00:04<00:00, 383.44batch/s, loss=4.59, topk_accuracy=0.254]\n"
     ]
    },
    {
     "name": "stdout",
     "output_type": "stream",
     "text": [
      "Epoch [1/100], Training Loss: 6.1938, Top-5 Accuracy: 0.2536\n"
     ]
    },
    {
     "name": "stderr",
     "output_type": "stream",
     "text": [
      "Epoch [2/100]: 100%|██████████| 1654/1654 [00:04<00:00, 385.53batch/s, loss=6.79, topk_accuracy=0.319]\n"
     ]
    },
    {
     "name": "stdout",
     "output_type": "stream",
     "text": [
      "Epoch [2/100], Training Loss: 5.4453, Top-5 Accuracy: 0.3193\n"
     ]
    },
    {
     "name": "stderr",
     "output_type": "stream",
     "text": [
      "Epoch [3/100]: 100%|██████████| 1654/1654 [00:04<00:00, 397.66batch/s, loss=6.41, topk_accuracy=0.356]\n"
     ]
    },
    {
     "name": "stdout",
     "output_type": "stream",
     "text": [
      "Epoch [3/100], Training Loss: 5.0333, Top-5 Accuracy: 0.3563\n"
     ]
    },
    {
     "name": "stderr",
     "output_type": "stream",
     "text": [
      "Epoch [4/100]: 100%|██████████| 1654/1654 [00:04<00:00, 383.82batch/s, loss=4.07, topk_accuracy=0.387]\n"
     ]
    },
    {
     "name": "stdout",
     "output_type": "stream",
     "text": [
      "Epoch [4/100], Training Loss: 4.7098, Top-5 Accuracy: 0.3868\n"
     ]
    },
    {
     "name": "stderr",
     "output_type": "stream",
     "text": [
      "Epoch [5/100]: 100%|██████████| 1654/1654 [00:04<00:00, 397.72batch/s, loss=4.17, topk_accuracy=0.414]\n"
     ]
    },
    {
     "name": "stdout",
     "output_type": "stream",
     "text": [
      "Epoch [5/100], Training Loss: 4.4460, Top-5 Accuracy: 0.4138\n"
     ]
    },
    {
     "name": "stderr",
     "output_type": "stream",
     "text": [
      "Epoch [6/100]: 100%|██████████| 1654/1654 [00:04<00:00, 397.69batch/s, loss=4.13, topk_accuracy=0.438]\n"
     ]
    },
    {
     "name": "stdout",
     "output_type": "stream",
     "text": [
      "Epoch [6/100], Training Loss: 4.2299, Top-5 Accuracy: 0.4379\n"
     ]
    },
    {
     "name": "stderr",
     "output_type": "stream",
     "text": [
      "Epoch [7/100]: 100%|██████████| 1654/1654 [00:04<00:00, 384.96batch/s, loss=4.06, topk_accuracy=0.461]\n"
     ]
    },
    {
     "name": "stdout",
     "output_type": "stream",
     "text": [
      "Epoch [7/100], Training Loss: 4.0485, Top-5 Accuracy: 0.4607\n"
     ]
    },
    {
     "name": "stderr",
     "output_type": "stream",
     "text": [
      "Epoch [8/100]: 100%|██████████| 1654/1654 [00:04<00:00, 385.00batch/s, loss=3.12, topk_accuracy=0.48] \n"
     ]
    },
    {
     "name": "stdout",
     "output_type": "stream",
     "text": [
      "Epoch [8/100], Training Loss: 3.8959, Top-5 Accuracy: 0.4796\n"
     ]
    },
    {
     "name": "stderr",
     "output_type": "stream",
     "text": [
      "Epoch [9/100]: 100%|██████████| 1654/1654 [00:04<00:00, 388.30batch/s, loss=4.09, topk_accuracy=0.498]\n"
     ]
    },
    {
     "name": "stdout",
     "output_type": "stream",
     "text": [
      "Epoch [9/100], Training Loss: 3.7615, Top-5 Accuracy: 0.4984\n"
     ]
    },
    {
     "name": "stderr",
     "output_type": "stream",
     "text": [
      "Epoch [10/100]: 100%|██████████| 1654/1654 [00:04<00:00, 399.51batch/s, loss=4.6, topk_accuracy=0.514] \n"
     ]
    },
    {
     "name": "stdout",
     "output_type": "stream",
     "text": [
      "Epoch [10/100], Training Loss: 3.6468, Top-5 Accuracy: 0.5144\n"
     ]
    },
    {
     "name": "stderr",
     "output_type": "stream",
     "text": [
      "Epoch [11/100]: 100%|██████████| 1654/1654 [00:04<00:00, 395.71batch/s, loss=3.61, topk_accuracy=0.53] \n"
     ]
    },
    {
     "name": "stdout",
     "output_type": "stream",
     "text": [
      "Epoch [11/100], Training Loss: 3.5425, Top-5 Accuracy: 0.5302\n"
     ]
    },
    {
     "name": "stderr",
     "output_type": "stream",
     "text": [
      "Epoch [12/100]: 100%|██████████| 1654/1654 [00:04<00:00, 383.14batch/s, loss=2.61, topk_accuracy=0.543]\n"
     ]
    },
    {
     "name": "stdout",
     "output_type": "stream",
     "text": [
      "Epoch [12/100], Training Loss: 3.4513, Top-5 Accuracy: 0.5434\n"
     ]
    },
    {
     "name": "stderr",
     "output_type": "stream",
     "text": [
      "Epoch [13/100]: 100%|██████████| 1654/1654 [00:04<00:00, 381.31batch/s, loss=3.24, topk_accuracy=0.556]\n"
     ]
    },
    {
     "name": "stdout",
     "output_type": "stream",
     "text": [
      "Epoch [13/100], Training Loss: 3.3683, Top-5 Accuracy: 0.5559\n"
     ]
    },
    {
     "name": "stderr",
     "output_type": "stream",
     "text": [
      "Epoch [14/100]: 100%|██████████| 1654/1654 [00:04<00:00, 381.72batch/s, loss=3.74, topk_accuracy=0.568]\n"
     ]
    },
    {
     "name": "stdout",
     "output_type": "stream",
     "text": [
      "Epoch [14/100], Training Loss: 3.2992, Top-5 Accuracy: 0.5678\n"
     ]
    },
    {
     "name": "stderr",
     "output_type": "stream",
     "text": [
      "Epoch [15/100]: 100%|██████████| 1654/1654 [00:04<00:00, 395.60batch/s, loss=3.3, topk_accuracy=0.576] \n"
     ]
    },
    {
     "name": "stdout",
     "output_type": "stream",
     "text": [
      "Epoch [15/100], Training Loss: 3.2377, Top-5 Accuracy: 0.5765\n"
     ]
    },
    {
     "name": "stderr",
     "output_type": "stream",
     "text": [
      "Epoch [16/100]: 100%|██████████| 1654/1654 [00:04<00:00, 395.90batch/s, loss=3.9, topk_accuracy=0.586] \n"
     ]
    },
    {
     "name": "stdout",
     "output_type": "stream",
     "text": [
      "Epoch [16/100], Training Loss: 3.1743, Top-5 Accuracy: 0.5857\n"
     ]
    },
    {
     "name": "stderr",
     "output_type": "stream",
     "text": [
      "Epoch [17/100]: 100%|██████████| 1654/1654 [00:04<00:00, 382.74batch/s, loss=2.62, topk_accuracy=0.594]\n"
     ]
    },
    {
     "name": "stdout",
     "output_type": "stream",
     "text": [
      "Epoch [17/100], Training Loss: 3.1208, Top-5 Accuracy: 0.5940\n"
     ]
    },
    {
     "name": "stderr",
     "output_type": "stream",
     "text": [
      "Epoch [18/100]: 100%|██████████| 1654/1654 [00:04<00:00, 388.44batch/s, loss=4.1, topk_accuracy=0.601] \n"
     ]
    },
    {
     "name": "stdout",
     "output_type": "stream",
     "text": [
      "Epoch [18/100], Training Loss: 3.0733, Top-5 Accuracy: 0.6010\n"
     ]
    },
    {
     "name": "stderr",
     "output_type": "stream",
     "text": [
      "Epoch [19/100]: 100%|██████████| 1654/1654 [00:04<00:00, 397.20batch/s, loss=4.64, topk_accuracy=0.608]\n"
     ]
    },
    {
     "name": "stdout",
     "output_type": "stream",
     "text": [
      "Epoch [19/100], Training Loss: 3.0308, Top-5 Accuracy: 0.6083\n"
     ]
    },
    {
     "name": "stderr",
     "output_type": "stream",
     "text": [
      "Epoch [20/100]: 100%|██████████| 1654/1654 [00:04<00:00, 392.08batch/s, loss=3.34, topk_accuracy=0.615]\n"
     ]
    },
    {
     "name": "stdout",
     "output_type": "stream",
     "text": [
      "Epoch [20/100], Training Loss: 2.9831, Top-5 Accuracy: 0.6154\n"
     ]
    },
    {
     "name": "stderr",
     "output_type": "stream",
     "text": [
      "Epoch [21/100]: 100%|██████████| 1654/1654 [00:04<00:00, 394.39batch/s, loss=3.63, topk_accuracy=0.621]\n"
     ]
    },
    {
     "name": "stdout",
     "output_type": "stream",
     "text": [
      "Epoch [21/100], Training Loss: 2.9456, Top-5 Accuracy: 0.6209\n"
     ]
    },
    {
     "name": "stderr",
     "output_type": "stream",
     "text": [
      "Epoch [22/100]: 100%|██████████| 1654/1654 [00:04<00:00, 387.10batch/s, loss=2.85, topk_accuracy=0.626]\n"
     ]
    },
    {
     "name": "stdout",
     "output_type": "stream",
     "text": [
      "Epoch [22/100], Training Loss: 2.9138, Top-5 Accuracy: 0.6257\n"
     ]
    },
    {
     "name": "stderr",
     "output_type": "stream",
     "text": [
      "Epoch [23/100]: 100%|██████████| 1654/1654 [00:04<00:00, 389.55batch/s, loss=2.82, topk_accuracy=0.631]\n"
     ]
    },
    {
     "name": "stdout",
     "output_type": "stream",
     "text": [
      "Epoch [23/100], Training Loss: 2.8826, Top-5 Accuracy: 0.6310\n"
     ]
    },
    {
     "name": "stderr",
     "output_type": "stream",
     "text": [
      "Epoch [24/100]: 100%|██████████| 1654/1654 [00:04<00:00, 382.56batch/s, loss=3.49, topk_accuracy=0.637]\n"
     ]
    },
    {
     "name": "stdout",
     "output_type": "stream",
     "text": [
      "Epoch [24/100], Training Loss: 2.8484, Top-5 Accuracy: 0.6371\n"
     ]
    },
    {
     "name": "stderr",
     "output_type": "stream",
     "text": [
      "Epoch [25/100]: 100%|██████████| 1654/1654 [00:04<00:00, 395.13batch/s, loss=5, topk_accuracy=0.64]    \n"
     ]
    },
    {
     "name": "stdout",
     "output_type": "stream",
     "text": [
      "Epoch [25/100], Training Loss: 2.8228, Top-5 Accuracy: 0.6405\n"
     ]
    },
    {
     "name": "stderr",
     "output_type": "stream",
     "text": [
      "Epoch [26/100]: 100%|██████████| 1654/1654 [00:04<00:00, 391.32batch/s, loss=3.42, topk_accuracy=0.645]\n"
     ]
    },
    {
     "name": "stdout",
     "output_type": "stream",
     "text": [
      "Epoch [26/100], Training Loss: 2.7944, Top-5 Accuracy: 0.6448\n"
     ]
    },
    {
     "name": "stderr",
     "output_type": "stream",
     "text": [
      "Epoch [27/100]: 100%|██████████| 1654/1654 [00:04<00:00, 375.47batch/s, loss=3.34, topk_accuracy=0.649]\n"
     ]
    },
    {
     "name": "stdout",
     "output_type": "stream",
     "text": [
      "Epoch [27/100], Training Loss: 2.7700, Top-5 Accuracy: 0.6487\n"
     ]
    },
    {
     "name": "stderr",
     "output_type": "stream",
     "text": [
      "Epoch [28/100]: 100%|██████████| 1654/1654 [00:04<00:00, 400.18batch/s, loss=1.88, topk_accuracy=0.651]\n"
     ]
    },
    {
     "name": "stdout",
     "output_type": "stream",
     "text": [
      "Epoch [28/100], Training Loss: 2.7471, Top-5 Accuracy: 0.6511\n"
     ]
    },
    {
     "name": "stderr",
     "output_type": "stream",
     "text": [
      "Epoch [29/100]: 100%|██████████| 1654/1654 [00:04<00:00, 397.53batch/s, loss=3.29, topk_accuracy=0.655]\n"
     ]
    },
    {
     "name": "stdout",
     "output_type": "stream",
     "text": [
      "Epoch [29/100], Training Loss: 2.7244, Top-5 Accuracy: 0.6550\n"
     ]
    },
    {
     "name": "stderr",
     "output_type": "stream",
     "text": [
      "Epoch [30/100]: 100%|██████████| 1654/1654 [00:04<00:00, 396.91batch/s, loss=2.52, topk_accuracy=0.659]\n"
     ]
    },
    {
     "name": "stdout",
     "output_type": "stream",
     "text": [
      "Epoch [30/100], Training Loss: 2.7025, Top-5 Accuracy: 0.6589\n"
     ]
    },
    {
     "name": "stderr",
     "output_type": "stream",
     "text": [
      "Epoch [31/100]: 100%|██████████| 1654/1654 [00:04<00:00, 365.41batch/s, loss=2.39, topk_accuracy=0.661]\n"
     ]
    },
    {
     "name": "stdout",
     "output_type": "stream",
     "text": [
      "Epoch [31/100], Training Loss: 2.6829, Top-5 Accuracy: 0.6613\n"
     ]
    },
    {
     "name": "stderr",
     "output_type": "stream",
     "text": [
      "Epoch [32/100]: 100%|██████████| 1654/1654 [00:04<00:00, 384.36batch/s, loss=1.91, topk_accuracy=0.665]\n"
     ]
    },
    {
     "name": "stdout",
     "output_type": "stream",
     "text": [
      "Epoch [32/100], Training Loss: 2.6670, Top-5 Accuracy: 0.6646\n"
     ]
    },
    {
     "name": "stderr",
     "output_type": "stream",
     "text": [
      "Epoch [33/100]: 100%|██████████| 1654/1654 [00:04<00:00, 384.45batch/s, loss=3.79, topk_accuracy=0.668]\n"
     ]
    },
    {
     "name": "stdout",
     "output_type": "stream",
     "text": [
      "Epoch [33/100], Training Loss: 2.6462, Top-5 Accuracy: 0.6677\n"
     ]
    },
    {
     "name": "stderr",
     "output_type": "stream",
     "text": [
      "Epoch [34/100]: 100%|██████████| 1654/1654 [00:04<00:00, 388.88batch/s, loss=3.52, topk_accuracy=0.669]\n"
     ]
    },
    {
     "name": "stdout",
     "output_type": "stream",
     "text": [
      "Epoch [34/100], Training Loss: 2.6316, Top-5 Accuracy: 0.6695\n"
     ]
    },
    {
     "name": "stderr",
     "output_type": "stream",
     "text": [
      "Epoch [35/100]: 100%|██████████| 1654/1654 [00:04<00:00, 379.06batch/s, loss=1.62, topk_accuracy=0.673]\n"
     ]
    },
    {
     "name": "stdout",
     "output_type": "stream",
     "text": [
      "Epoch [35/100], Training Loss: 2.6144, Top-5 Accuracy: 0.6728\n"
     ]
    },
    {
     "name": "stderr",
     "output_type": "stream",
     "text": [
      "Epoch [36/100]: 100%|██████████| 1654/1654 [00:04<00:00, 383.29batch/s, loss=3.27, topk_accuracy=0.675]\n"
     ]
    },
    {
     "name": "stdout",
     "output_type": "stream",
     "text": [
      "Epoch [36/100], Training Loss: 2.5979, Top-5 Accuracy: 0.6749\n"
     ]
    },
    {
     "name": "stderr",
     "output_type": "stream",
     "text": [
      "Epoch [37/100]: 100%|██████████| 1654/1654 [00:04<00:00, 376.42batch/s, loss=2.86, topk_accuracy=0.676]\n"
     ]
    },
    {
     "name": "stdout",
     "output_type": "stream",
     "text": [
      "Epoch [37/100], Training Loss: 2.5860, Top-5 Accuracy: 0.6761\n"
     ]
    },
    {
     "name": "stderr",
     "output_type": "stream",
     "text": [
      "Epoch [38/100]: 100%|██████████| 1654/1654 [00:04<00:00, 392.93batch/s, loss=3.06, topk_accuracy=0.678]\n"
     ]
    },
    {
     "name": "stdout",
     "output_type": "stream",
     "text": [
      "Epoch [38/100], Training Loss: 2.5771, Top-5 Accuracy: 0.6780\n"
     ]
    },
    {
     "name": "stderr",
     "output_type": "stream",
     "text": [
      "Epoch [39/100]: 100%|██████████| 1654/1654 [00:04<00:00, 353.79batch/s, loss=3.65, topk_accuracy=0.68] \n"
     ]
    },
    {
     "name": "stdout",
     "output_type": "stream",
     "text": [
      "Epoch [39/100], Training Loss: 2.5593, Top-5 Accuracy: 0.6799\n"
     ]
    },
    {
     "name": "stderr",
     "output_type": "stream",
     "text": [
      "Epoch [40/100]: 100%|██████████| 1654/1654 [00:04<00:00, 358.72batch/s, loss=3.12, topk_accuracy=0.682]\n"
     ]
    },
    {
     "name": "stdout",
     "output_type": "stream",
     "text": [
      "Epoch [40/100], Training Loss: 2.5469, Top-5 Accuracy: 0.6824\n"
     ]
    },
    {
     "name": "stderr",
     "output_type": "stream",
     "text": [
      "Epoch [41/100]: 100%|██████████| 1654/1654 [00:04<00:00, 379.51batch/s, loss=3.38, topk_accuracy=0.684]\n"
     ]
    },
    {
     "name": "stdout",
     "output_type": "stream",
     "text": [
      "Epoch [41/100], Training Loss: 2.5332, Top-5 Accuracy: 0.6842\n"
     ]
    },
    {
     "name": "stderr",
     "output_type": "stream",
     "text": [
      "Epoch [42/100]: 100%|██████████| 1654/1654 [00:04<00:00, 369.16batch/s, loss=1.91, topk_accuracy=0.687]\n"
     ]
    },
    {
     "name": "stdout",
     "output_type": "stream",
     "text": [
      "Epoch [42/100], Training Loss: 2.5230, Top-5 Accuracy: 0.6867\n"
     ]
    },
    {
     "name": "stderr",
     "output_type": "stream",
     "text": [
      "Epoch [43/100]: 100%|██████████| 1654/1654 [00:04<00:00, 375.06batch/s, loss=3.11, topk_accuracy=0.688]\n"
     ]
    },
    {
     "name": "stdout",
     "output_type": "stream",
     "text": [
      "Epoch [43/100], Training Loss: 2.5153, Top-5 Accuracy: 0.6878\n"
     ]
    },
    {
     "name": "stderr",
     "output_type": "stream",
     "text": [
      "Epoch [44/100]: 100%|██████████| 1654/1654 [00:04<00:00, 382.79batch/s, loss=1.71, topk_accuracy=0.69] \n"
     ]
    },
    {
     "name": "stdout",
     "output_type": "stream",
     "text": [
      "Epoch [44/100], Training Loss: 2.4997, Top-5 Accuracy: 0.6900\n"
     ]
    },
    {
     "name": "stderr",
     "output_type": "stream",
     "text": [
      "Epoch [45/100]: 100%|██████████| 1654/1654 [00:04<00:00, 371.33batch/s, loss=2.1, topk_accuracy=0.692] \n"
     ]
    },
    {
     "name": "stdout",
     "output_type": "stream",
     "text": [
      "Epoch [45/100], Training Loss: 2.4870, Top-5 Accuracy: 0.6917\n"
     ]
    },
    {
     "name": "stderr",
     "output_type": "stream",
     "text": [
      "Epoch [46/100]: 100%|██████████| 1654/1654 [00:04<00:00, 367.46batch/s, loss=2.95, topk_accuracy=0.693]\n"
     ]
    },
    {
     "name": "stdout",
     "output_type": "stream",
     "text": [
      "Epoch [46/100], Training Loss: 2.4844, Top-5 Accuracy: 0.6930\n"
     ]
    },
    {
     "name": "stderr",
     "output_type": "stream",
     "text": [
      "Epoch [47/100]: 100%|██████████| 1654/1654 [00:04<00:00, 375.36batch/s, loss=2.76, topk_accuracy=0.693]\n"
     ]
    },
    {
     "name": "stdout",
     "output_type": "stream",
     "text": [
      "Epoch [47/100], Training Loss: 2.4705, Top-5 Accuracy: 0.6933\n"
     ]
    },
    {
     "name": "stderr",
     "output_type": "stream",
     "text": [
      "Epoch [48/100]: 100%|██████████| 1654/1654 [00:04<00:00, 395.53batch/s, loss=1.8, topk_accuracy=0.696] \n"
     ]
    },
    {
     "name": "stdout",
     "output_type": "stream",
     "text": [
      "Epoch [48/100], Training Loss: 2.4626, Top-5 Accuracy: 0.6958\n"
     ]
    },
    {
     "name": "stderr",
     "output_type": "stream",
     "text": [
      "Epoch [49/100]: 100%|██████████| 1654/1654 [00:04<00:00, 387.10batch/s, loss=1.68, topk_accuracy=0.696]\n"
     ]
    },
    {
     "name": "stdout",
     "output_type": "stream",
     "text": [
      "Epoch [49/100], Training Loss: 2.4568, Top-5 Accuracy: 0.6961\n"
     ]
    },
    {
     "name": "stderr",
     "output_type": "stream",
     "text": [
      "Epoch [50/100]: 100%|██████████| 1654/1654 [00:04<00:00, 389.83batch/s, loss=2, topk_accuracy=0.699]   \n"
     ]
    },
    {
     "name": "stdout",
     "output_type": "stream",
     "text": [
      "Epoch [50/100], Training Loss: 2.4383, Top-5 Accuracy: 0.6993\n"
     ]
    },
    {
     "name": "stderr",
     "output_type": "stream",
     "text": [
      "Epoch [51/100]: 100%|██████████| 1654/1654 [00:04<00:00, 397.36batch/s, loss=3.14, topk_accuracy=0.699]\n"
     ]
    },
    {
     "name": "stdout",
     "output_type": "stream",
     "text": [
      "Epoch [51/100], Training Loss: 2.4375, Top-5 Accuracy: 0.6995\n"
     ]
    },
    {
     "name": "stderr",
     "output_type": "stream",
     "text": [
      "Epoch [52/100]: 100%|██████████| 1654/1654 [00:04<00:00, 395.86batch/s, loss=2.45, topk_accuracy=0.701]\n"
     ]
    },
    {
     "name": "stdout",
     "output_type": "stream",
     "text": [
      "Epoch [52/100], Training Loss: 2.4272, Top-5 Accuracy: 0.7014\n"
     ]
    },
    {
     "name": "stderr",
     "output_type": "stream",
     "text": [
      "Epoch [53/100]: 100%|██████████| 1654/1654 [00:04<00:00, 386.64batch/s, loss=3.48, topk_accuracy=0.702]\n"
     ]
    },
    {
     "name": "stdout",
     "output_type": "stream",
     "text": [
      "Epoch [53/100], Training Loss: 2.4189, Top-5 Accuracy: 0.7022\n"
     ]
    },
    {
     "name": "stderr",
     "output_type": "stream",
     "text": [
      "Epoch [54/100]: 100%|██████████| 1654/1654 [00:04<00:00, 393.93batch/s, loss=2.66, topk_accuracy=0.703]\n"
     ]
    },
    {
     "name": "stdout",
     "output_type": "stream",
     "text": [
      "Epoch [54/100], Training Loss: 2.4120, Top-5 Accuracy: 0.7032\n"
     ]
    },
    {
     "name": "stderr",
     "output_type": "stream",
     "text": [
      "Epoch [55/100]: 100%|██████████| 1654/1654 [00:04<00:00, 392.60batch/s, loss=2.25, topk_accuracy=0.704]\n"
     ]
    },
    {
     "name": "stdout",
     "output_type": "stream",
     "text": [
      "Epoch [55/100], Training Loss: 2.4080, Top-5 Accuracy: 0.7044\n"
     ]
    },
    {
     "name": "stderr",
     "output_type": "stream",
     "text": [
      "Epoch [56/100]: 100%|██████████| 1654/1654 [00:04<00:00, 386.20batch/s, loss=3.04, topk_accuracy=0.704]\n"
     ]
    },
    {
     "name": "stdout",
     "output_type": "stream",
     "text": [
      "Epoch [56/100], Training Loss: 2.4024, Top-5 Accuracy: 0.7042\n"
     ]
    },
    {
     "name": "stderr",
     "output_type": "stream",
     "text": [
      "Epoch [57/100]: 100%|██████████| 1654/1654 [00:04<00:00, 389.28batch/s, loss=1.83, topk_accuracy=0.706]\n"
     ]
    },
    {
     "name": "stdout",
     "output_type": "stream",
     "text": [
      "Epoch [57/100], Training Loss: 2.3929, Top-5 Accuracy: 0.7060\n"
     ]
    },
    {
     "name": "stderr",
     "output_type": "stream",
     "text": [
      "Epoch [58/100]: 100%|██████████| 1654/1654 [00:04<00:00, 390.44batch/s, loss=2.81, topk_accuracy=0.708]\n"
     ]
    },
    {
     "name": "stdout",
     "output_type": "stream",
     "text": [
      "Epoch [58/100], Training Loss: 2.3869, Top-5 Accuracy: 0.7080\n"
     ]
    },
    {
     "name": "stderr",
     "output_type": "stream",
     "text": [
      "Epoch [59/100]: 100%|██████████| 1654/1654 [00:04<00:00, 391.63batch/s, loss=2.03, topk_accuracy=0.707]\n"
     ]
    },
    {
     "name": "stdout",
     "output_type": "stream",
     "text": [
      "Epoch [59/100], Training Loss: 2.3808, Top-5 Accuracy: 0.7073\n"
     ]
    },
    {
     "name": "stderr",
     "output_type": "stream",
     "text": [
      "Epoch [60/100]: 100%|██████████| 1654/1654 [00:04<00:00, 396.93batch/s, loss=2.99, topk_accuracy=0.71] \n"
     ]
    },
    {
     "name": "stdout",
     "output_type": "stream",
     "text": [
      "Epoch [60/100], Training Loss: 2.3712, Top-5 Accuracy: 0.7100\n"
     ]
    },
    {
     "name": "stderr",
     "output_type": "stream",
     "text": [
      "Epoch [61/100]: 100%|██████████| 1654/1654 [00:04<00:00, 386.31batch/s, loss=2.81, topk_accuracy=0.71] \n"
     ]
    },
    {
     "name": "stdout",
     "output_type": "stream",
     "text": [
      "Epoch [61/100], Training Loss: 2.3663, Top-5 Accuracy: 0.7100\n"
     ]
    },
    {
     "name": "stderr",
     "output_type": "stream",
     "text": [
      "Epoch [62/100]: 100%|██████████| 1654/1654 [00:04<00:00, 390.75batch/s, loss=2.29, topk_accuracy=0.711]\n"
     ]
    },
    {
     "name": "stdout",
     "output_type": "stream",
     "text": [
      "Epoch [62/100], Training Loss: 2.3607, Top-5 Accuracy: 0.7112\n"
     ]
    },
    {
     "name": "stderr",
     "output_type": "stream",
     "text": [
      "Epoch [63/100]: 100%|██████████| 1654/1654 [00:04<00:00, 390.42batch/s, loss=2.26, topk_accuracy=0.712]\n"
     ]
    },
    {
     "name": "stdout",
     "output_type": "stream",
     "text": [
      "Epoch [63/100], Training Loss: 2.3567, Top-5 Accuracy: 0.7115\n"
     ]
    },
    {
     "name": "stderr",
     "output_type": "stream",
     "text": [
      "Epoch [64/100]: 100%|██████████| 1654/1654 [00:04<00:00, 394.66batch/s, loss=2.7, topk_accuracy=0.711] \n"
     ]
    },
    {
     "name": "stdout",
     "output_type": "stream",
     "text": [
      "Epoch [64/100], Training Loss: 2.3552, Top-5 Accuracy: 0.7114\n"
     ]
    },
    {
     "name": "stderr",
     "output_type": "stream",
     "text": [
      "Epoch [65/100]: 100%|██████████| 1654/1654 [00:04<00:00, 386.15batch/s, loss=2.15, topk_accuracy=0.713]\n"
     ]
    },
    {
     "name": "stdout",
     "output_type": "stream",
     "text": [
      "Epoch [65/100], Training Loss: 2.3486, Top-5 Accuracy: 0.7126\n"
     ]
    },
    {
     "name": "stderr",
     "output_type": "stream",
     "text": [
      "Epoch [66/100]: 100%|██████████| 1654/1654 [00:04<00:00, 402.00batch/s, loss=1.33, topk_accuracy=0.714]\n"
     ]
    },
    {
     "name": "stdout",
     "output_type": "stream",
     "text": [
      "Epoch [66/100], Training Loss: 2.3405, Top-5 Accuracy: 0.7137\n"
     ]
    },
    {
     "name": "stderr",
     "output_type": "stream",
     "text": [
      "Epoch [67/100]: 100%|██████████| 1654/1654 [00:04<00:00, 390.39batch/s, loss=2.09, topk_accuracy=0.715]\n"
     ]
    },
    {
     "name": "stdout",
     "output_type": "stream",
     "text": [
      "Epoch [67/100], Training Loss: 2.3317, Top-5 Accuracy: 0.7149\n"
     ]
    },
    {
     "name": "stderr",
     "output_type": "stream",
     "text": [
      "Epoch [68/100]: 100%|██████████| 1654/1654 [00:04<00:00, 401.60batch/s, loss=2.34, topk_accuracy=0.715]\n"
     ]
    },
    {
     "name": "stdout",
     "output_type": "stream",
     "text": [
      "Epoch [68/100], Training Loss: 2.3320, Top-5 Accuracy: 0.7153\n",
      "No improvement in training loss. Early stop counter: 1/5\n"
     ]
    },
    {
     "name": "stderr",
     "output_type": "stream",
     "text": [
      "Epoch [69/100]: 100%|██████████| 1654/1654 [00:04<00:00, 394.34batch/s, loss=1.72, topk_accuracy=0.717]\n"
     ]
    },
    {
     "name": "stdout",
     "output_type": "stream",
     "text": [
      "Epoch [69/100], Training Loss: 2.3253, Top-5 Accuracy: 0.7171\n"
     ]
    },
    {
     "name": "stderr",
     "output_type": "stream",
     "text": [
      "Epoch [70/100]: 100%|██████████| 1654/1654 [00:04<00:00, 382.89batch/s, loss=1.98, topk_accuracy=0.717]\n"
     ]
    },
    {
     "name": "stdout",
     "output_type": "stream",
     "text": [
      "Epoch [70/100], Training Loss: 2.3212, Top-5 Accuracy: 0.7168\n"
     ]
    },
    {
     "name": "stderr",
     "output_type": "stream",
     "text": [
      "Epoch [71/100]: 100%|██████████| 1654/1654 [00:04<00:00, 385.70batch/s, loss=3.09, topk_accuracy=0.716]\n"
     ]
    },
    {
     "name": "stdout",
     "output_type": "stream",
     "text": [
      "Epoch [71/100], Training Loss: 2.3206, Top-5 Accuracy: 0.7157\n"
     ]
    },
    {
     "name": "stderr",
     "output_type": "stream",
     "text": [
      "Epoch [72/100]: 100%|██████████| 1654/1654 [00:04<00:00, 398.14batch/s, loss=1.47, topk_accuracy=0.718]\n"
     ]
    },
    {
     "name": "stdout",
     "output_type": "stream",
     "text": [
      "Epoch [72/100], Training Loss: 2.3085, Top-5 Accuracy: 0.7183\n"
     ]
    },
    {
     "name": "stderr",
     "output_type": "stream",
     "text": [
      "Epoch [73/100]: 100%|██████████| 1654/1654 [00:04<00:00, 387.25batch/s, loss=0.863, topk_accuracy=0.72]\n"
     ]
    },
    {
     "name": "stdout",
     "output_type": "stream",
     "text": [
      "Epoch [73/100], Training Loss: 2.3017, Top-5 Accuracy: 0.7200\n"
     ]
    },
    {
     "name": "stderr",
     "output_type": "stream",
     "text": [
      "Epoch [74/100]: 100%|██████████| 1654/1654 [00:04<00:00, 380.03batch/s, loss=3.16, topk_accuracy=0.719]\n"
     ]
    },
    {
     "name": "stdout",
     "output_type": "stream",
     "text": [
      "Epoch [74/100], Training Loss: 2.3024, Top-5 Accuracy: 0.7193\n",
      "No improvement in training loss. Early stop counter: 1/5\n"
     ]
    },
    {
     "name": "stderr",
     "output_type": "stream",
     "text": [
      "Epoch [75/100]: 100%|██████████| 1654/1654 [00:04<00:00, 379.87batch/s, loss=2.2, topk_accuracy=0.72]  \n"
     ]
    },
    {
     "name": "stdout",
     "output_type": "stream",
     "text": [
      "Epoch [75/100], Training Loss: 2.2958, Top-5 Accuracy: 0.7201\n"
     ]
    },
    {
     "name": "stderr",
     "output_type": "stream",
     "text": [
      "Epoch [76/100]: 100%|██████████| 1654/1654 [00:04<00:00, 385.22batch/s, loss=3.03, topk_accuracy=0.72] \n"
     ]
    },
    {
     "name": "stdout",
     "output_type": "stream",
     "text": [
      "Epoch [76/100], Training Loss: 2.2957, Top-5 Accuracy: 0.7202\n"
     ]
    },
    {
     "name": "stderr",
     "output_type": "stream",
     "text": [
      "Epoch [77/100]: 100%|██████████| 1654/1654 [00:04<00:00, 392.88batch/s, loss=2.35, topk_accuracy=0.72] \n"
     ]
    },
    {
     "name": "stdout",
     "output_type": "stream",
     "text": [
      "Epoch [77/100], Training Loss: 2.2972, Top-5 Accuracy: 0.7201\n",
      "No improvement in training loss. Early stop counter: 1/5\n"
     ]
    },
    {
     "name": "stderr",
     "output_type": "stream",
     "text": [
      "Epoch [78/100]: 100%|██████████| 1654/1654 [00:04<00:00, 387.68batch/s, loss=1.5, topk_accuracy=0.722] \n"
     ]
    },
    {
     "name": "stdout",
     "output_type": "stream",
     "text": [
      "Epoch [78/100], Training Loss: 2.2879, Top-5 Accuracy: 0.7219\n"
     ]
    },
    {
     "name": "stderr",
     "output_type": "stream",
     "text": [
      "Epoch [79/100]: 100%|██████████| 1654/1654 [00:04<00:00, 374.96batch/s, loss=3.06, topk_accuracy=0.723]\n"
     ]
    },
    {
     "name": "stdout",
     "output_type": "stream",
     "text": [
      "Epoch [79/100], Training Loss: 2.2839, Top-5 Accuracy: 0.7227\n"
     ]
    },
    {
     "name": "stderr",
     "output_type": "stream",
     "text": [
      "Epoch [80/100]: 100%|██████████| 1654/1654 [00:04<00:00, 373.43batch/s, loss=2.18, topk_accuracy=0.722]\n"
     ]
    },
    {
     "name": "stdout",
     "output_type": "stream",
     "text": [
      "Epoch [80/100], Training Loss: 2.2785, Top-5 Accuracy: 0.7224\n"
     ]
    },
    {
     "name": "stderr",
     "output_type": "stream",
     "text": [
      "Epoch [81/100]: 100%|██████████| 1654/1654 [00:04<00:00, 376.73batch/s, loss=2.69, topk_accuracy=0.724]\n"
     ]
    },
    {
     "name": "stdout",
     "output_type": "stream",
     "text": [
      "Epoch [81/100], Training Loss: 2.2788, Top-5 Accuracy: 0.7238\n",
      "No improvement in training loss. Early stop counter: 1/5\n"
     ]
    },
    {
     "name": "stderr",
     "output_type": "stream",
     "text": [
      "Epoch [82/100]: 100%|██████████| 1654/1654 [00:04<00:00, 369.02batch/s, loss=2.5, topk_accuracy=0.725] \n"
     ]
    },
    {
     "name": "stdout",
     "output_type": "stream",
     "text": [
      "Epoch [82/100], Training Loss: 2.2675, Top-5 Accuracy: 0.7246\n"
     ]
    },
    {
     "name": "stderr",
     "output_type": "stream",
     "text": [
      "Epoch [83/100]: 100%|██████████| 1654/1654 [00:04<00:00, 381.73batch/s, loss=2.79, topk_accuracy=0.726]\n"
     ]
    },
    {
     "name": "stdout",
     "output_type": "stream",
     "text": [
      "Epoch [83/100], Training Loss: 2.2649, Top-5 Accuracy: 0.7257\n"
     ]
    },
    {
     "name": "stderr",
     "output_type": "stream",
     "text": [
      "Epoch [84/100]: 100%|██████████| 1654/1654 [00:04<00:00, 386.27batch/s, loss=2.07, topk_accuracy=0.724]\n"
     ]
    },
    {
     "name": "stdout",
     "output_type": "stream",
     "text": [
      "Epoch [84/100], Training Loss: 2.2653, Top-5 Accuracy: 0.7241\n",
      "No improvement in training loss. Early stop counter: 1/5\n"
     ]
    },
    {
     "name": "stderr",
     "output_type": "stream",
     "text": [
      "Epoch [85/100]: 100%|██████████| 1654/1654 [00:04<00:00, 395.43batch/s, loss=2.85, topk_accuracy=0.725]\n"
     ]
    },
    {
     "name": "stdout",
     "output_type": "stream",
     "text": [
      "Epoch [85/100], Training Loss: 2.2639, Top-5 Accuracy: 0.7252\n"
     ]
    },
    {
     "name": "stderr",
     "output_type": "stream",
     "text": [
      "Epoch [86/100]: 100%|██████████| 1654/1654 [00:04<00:00, 387.01batch/s, loss=2.25, topk_accuracy=0.726]\n"
     ]
    },
    {
     "name": "stdout",
     "output_type": "stream",
     "text": [
      "Epoch [86/100], Training Loss: 2.2574, Top-5 Accuracy: 0.7259\n"
     ]
    },
    {
     "name": "stderr",
     "output_type": "stream",
     "text": [
      "Epoch [87/100]: 100%|██████████| 1654/1654 [00:04<00:00, 374.68batch/s, loss=1.86, topk_accuracy=0.727]\n"
     ]
    },
    {
     "name": "stdout",
     "output_type": "stream",
     "text": [
      "Epoch [87/100], Training Loss: 2.2552, Top-5 Accuracy: 0.7271\n"
     ]
    },
    {
     "name": "stderr",
     "output_type": "stream",
     "text": [
      "Epoch [88/100]: 100%|██████████| 1654/1654 [00:04<00:00, 387.99batch/s, loss=2.61, topk_accuracy=0.726]\n"
     ]
    },
    {
     "name": "stdout",
     "output_type": "stream",
     "text": [
      "Epoch [88/100], Training Loss: 2.2528, Top-5 Accuracy: 0.7264\n"
     ]
    },
    {
     "name": "stderr",
     "output_type": "stream",
     "text": [
      "Epoch [89/100]: 100%|██████████| 1654/1654 [00:04<00:00, 397.63batch/s, loss=2.92, topk_accuracy=0.728]\n"
     ]
    },
    {
     "name": "stdout",
     "output_type": "stream",
     "text": [
      "Epoch [89/100], Training Loss: 2.2445, Top-5 Accuracy: 0.7279\n"
     ]
    },
    {
     "name": "stderr",
     "output_type": "stream",
     "text": [
      "Epoch [90/100]: 100%|██████████| 1654/1654 [00:04<00:00, 388.51batch/s, loss=2.95, topk_accuracy=0.728]\n"
     ]
    },
    {
     "name": "stdout",
     "output_type": "stream",
     "text": [
      "Epoch [90/100], Training Loss: 2.2472, Top-5 Accuracy: 0.7278\n",
      "No improvement in training loss. Early stop counter: 1/5\n"
     ]
    },
    {
     "name": "stderr",
     "output_type": "stream",
     "text": [
      "Epoch [91/100]: 100%|██████████| 1654/1654 [00:04<00:00, 373.11batch/s, loss=2.48, topk_accuracy=0.728]\n"
     ]
    },
    {
     "name": "stdout",
     "output_type": "stream",
     "text": [
      "Epoch [91/100], Training Loss: 2.2427, Top-5 Accuracy: 0.7281\n"
     ]
    },
    {
     "name": "stderr",
     "output_type": "stream",
     "text": [
      "Epoch [92/100]: 100%|██████████| 1654/1654 [00:04<00:00, 387.37batch/s, loss=2.63, topk_accuracy=0.727]\n"
     ]
    },
    {
     "name": "stdout",
     "output_type": "stream",
     "text": [
      "Epoch [92/100], Training Loss: 2.2387, Top-5 Accuracy: 0.7272\n"
     ]
    },
    {
     "name": "stderr",
     "output_type": "stream",
     "text": [
      "Epoch [93/100]: 100%|██████████| 1654/1654 [00:04<00:00, 396.44batch/s, loss=2.5, topk_accuracy=0.73]  \n"
     ]
    },
    {
     "name": "stdout",
     "output_type": "stream",
     "text": [
      "Epoch [93/100], Training Loss: 2.2351, Top-5 Accuracy: 0.7298\n"
     ]
    },
    {
     "name": "stderr",
     "output_type": "stream",
     "text": [
      "Epoch [94/100]: 100%|██████████| 1654/1654 [00:04<00:00, 378.69batch/s, loss=2.79, topk_accuracy=0.729]\n"
     ]
    },
    {
     "name": "stdout",
     "output_type": "stream",
     "text": [
      "Epoch [94/100], Training Loss: 2.2357, Top-5 Accuracy: 0.7292\n",
      "No improvement in training loss. Early stop counter: 1/5\n"
     ]
    },
    {
     "name": "stderr",
     "output_type": "stream",
     "text": [
      "Epoch [95/100]: 100%|██████████| 1654/1654 [00:04<00:00, 379.81batch/s, loss=2.4, topk_accuracy=0.73]  \n"
     ]
    },
    {
     "name": "stdout",
     "output_type": "stream",
     "text": [
      "Epoch [95/100], Training Loss: 2.2325, Top-5 Accuracy: 0.7301\n"
     ]
    },
    {
     "name": "stderr",
     "output_type": "stream",
     "text": [
      "Epoch [96/100]: 100%|██████████| 1654/1654 [00:04<00:00, 395.57batch/s, loss=1.89, topk_accuracy=0.731]\n"
     ]
    },
    {
     "name": "stdout",
     "output_type": "stream",
     "text": [
      "Epoch [96/100], Training Loss: 2.2248, Top-5 Accuracy: 0.7310\n"
     ]
    },
    {
     "name": "stderr",
     "output_type": "stream",
     "text": [
      "Epoch [97/100]: 100%|██████████| 1654/1654 [00:04<00:00, 394.44batch/s, loss=1.85, topk_accuracy=0.731]\n"
     ]
    },
    {
     "name": "stdout",
     "output_type": "stream",
     "text": [
      "Epoch [97/100], Training Loss: 2.2246, Top-5 Accuracy: 0.7314\n"
     ]
    },
    {
     "name": "stderr",
     "output_type": "stream",
     "text": [
      "Epoch [98/100]: 100%|██████████| 1654/1654 [00:04<00:00, 393.92batch/s, loss=1.41, topk_accuracy=0.732]\n"
     ]
    },
    {
     "name": "stdout",
     "output_type": "stream",
     "text": [
      "Epoch [98/100], Training Loss: 2.2190, Top-5 Accuracy: 0.7317\n"
     ]
    },
    {
     "name": "stderr",
     "output_type": "stream",
     "text": [
      "Epoch [99/100]: 100%|██████████| 1654/1654 [00:04<00:00, 393.23batch/s, loss=2.7, topk_accuracy=0.732] \n"
     ]
    },
    {
     "name": "stdout",
     "output_type": "stream",
     "text": [
      "Epoch [99/100], Training Loss: 2.2198, Top-5 Accuracy: 0.7317\n",
      "No improvement in training loss. Early stop counter: 1/5\n"
     ]
    },
    {
     "name": "stderr",
     "output_type": "stream",
     "text": [
      "Epoch [100/100]: 100%|██████████| 1654/1654 [00:04<00:00, 387.29batch/s, loss=2.09, topk_accuracy=0.734]"
     ]
    },
    {
     "name": "stdout",
     "output_type": "stream",
     "text": [
      "Epoch [100/100], Training Loss: 2.2201, Top-5 Accuracy: 0.7336\n",
      "No improvement in training loss. Early stop counter: 2/5\n"
     ]
    },
    {
     "name": "stderr",
     "output_type": "stream",
     "text": [
      "\n"
     ]
    }
   ],
   "source": [
    "train_model(model=bilstm_model,train_loader=train_loader,bidirectional=True)"
   ]
  },
  {
   "cell_type": "code",
   "execution_count": 42,
   "metadata": {},
   "outputs": [
    {
     "data": {
      "text/plain": [
       "<All keys matched successfully>"
      ]
     },
     "execution_count": 42,
     "metadata": {},
     "output_type": "execute_result"
    }
   ],
   "source": [
    "lstm_check_point_path = './model_checkpoints/lstm/best_model.pth'\n",
    "bilstm_check_point_path = './model_checkpoints/bilstm/best_model.pth'\n",
    "lstm_check_point = torch.load(lstm_check_point_path,weights_only = True)\n",
    "bilstm_check_point = torch.load(bilstm_check_point_path,weights_only = True)\n",
    "\n",
    "lstm_model.load_state_dict(lstm_check_point['model_state_dict'])\n",
    "bilstm_model.load_state_dict(bilstm_check_point['model_state_dict'])"
   ]
  },
  {
   "cell_type": "code",
   "execution_count": 43,
   "metadata": {},
   "outputs": [],
   "source": [
    "# Autoregressively keep on predicting next word\n",
    "def predict_next_words(model, input_text,n,show_top_5=False):\n",
    "    text = input_text.lower()\n",
    "    model.eval()\n",
    "    with torch.no_grad():\n",
    "        for i in range(n):\n",
    "            if i == 0:\n",
    "                tokens = preprocess_text(text)\n",
    "                input_ids = [word_to_idx[token] for token in tokens]\n",
    "            else:\n",
    "                input_ids.append(best_prediction)    \n",
    "            outputs = model(torch.tensor(input_ids).unsqueeze(0).to(device))\n",
    "            predictions = torch.topk(outputs, dim=1,k=5)[1]\n",
    "            best_prediction = predictions[0][0]        \n",
    "            predicted_words = [idx_to_word.get(idx.item(), '<UNK>') for idx in predictions[0]]\n",
    "            if show_top_5:\n",
    "                print(f\"Top five predicted words - {predicted_words}\")\n",
    "            text = text + ' ' + predicted_words[0] \n",
    "            print(f\"updated sentence --> {text}\\n\")   \n",
    "  \n",
    "    return text"
   ]
  },
  {
   "cell_type": "markdown",
   "metadata": {},
   "source": [
    "LSTM next word generation"
   ]
  },
  {
   "cell_type": "code",
   "execution_count": 48,
   "metadata": {},
   "outputs": [
    {
     "name": "stdout",
     "output_type": "stream",
     "text": [
      "Input text --> generative model\n",
      "Top five predicted words - ['classifier', 'for', 'belonging', 'can', 'of']\n",
      "updated sentence --> generative model classifier\n",
      "\n",
      "Top five predicted words - ['we', 'to', 'that', 'designed', 'classifier']\n",
      "updated sentence --> generative model classifier we\n",
      "\n",
      "Top five predicted words - ['study', 'show', 'present', 'demonstrate', 'propose']\n",
      "updated sentence --> generative model classifier we study\n",
      "\n",
      "Top five predicted words - ['the', 'here', 'and', 'this', 'natural']\n",
      "updated sentence --> generative model classifier we study the\n",
      "\n",
      "Top five predicted words - ['physical', 'algorithm', 'development', 'joint', 'performance']\n",
      "updated sentence --> generative model classifier we study the physical\n",
      "\n",
      "Top five predicted words - ['outlook', 'steam', 'properties', '<UNK>', 'model']\n",
      "updated sentence --> generative model classifier we study the physical outlook\n",
      "\n",
      "Top five predicted words - ['in', 'that', 'a', 'the', 'our']\n",
      "updated sentence --> generative model classifier we study the physical outlook in\n",
      "\n",
      "Input text --> they are\n",
      "Top five predicted words - ['not', 'underperforming', 'the', 'more', '<UNK>']\n",
      "updated sentence --> they are not\n",
      "\n",
      "Top five predicted words - ['only', 'so', 'ready', 'at', 'looking']\n",
      "updated sentence --> they are not only\n",
      "\n",
      "Top five predicted words - ['so', 'in', 'to', 'at', 'the']\n",
      "updated sentence --> they are not only so\n",
      "\n",
      "Top five predicted words - ['available', 'aware', 'busy', 'only', 'find']\n",
      "updated sentence --> they are not only so available\n",
      "\n",
      "Top five predicted words - ['at', 'in', 'on', 'over', 'and']\n",
      "updated sentence --> they are not only so available at\n",
      "\n",
      "Top five predicted words - ['home', 'all', 'this', 'the', 'an']\n",
      "updated sentence --> they are not only so available at home\n",
      "\n",
      "Top five predicted words - ['39', 'almost', 'equally', 'dangerous', '75']\n",
      "updated sentence --> they are not only so available at home 39\n",
      "\n",
      "Input text --> it is believed\n",
      "Top five predicted words - ['that', 'by', 'to', 'when', 'this']\n",
      "updated sentence --> it is believed that\n",
      "\n",
      "Top five predicted words - ['kind', 'mothers', '<UNK>', 'the', 'students']\n",
      "updated sentence --> it is believed that kind\n",
      "\n",
      "Top five predicted words - ['of', 'for', 'actions', 'in', 'is']\n",
      "updated sentence --> it is believed that kind of\n",
      "\n",
      "Top five predicted words - ['wool', 'symmetries', 'news', 'program', 'course']\n",
      "updated sentence --> it is believed that kind of wool\n",
      "\n",
      "Top five predicted words - ['the', 'adding', 'english', 'is', 'which']\n",
      "updated sentence --> it is believed that kind of wool the\n",
      "\n",
      "Top five predicted words - ['wool', 'generative', 'proposed', 'bee', 'behavior']\n",
      "updated sentence --> it is believed that kind of wool the wool\n",
      "\n",
      "Top five predicted words - ['is', 'the', 'involves', 'and', 'next']\n",
      "updated sentence --> it is believed that kind of wool the wool is\n",
      "\n"
     ]
    }
   ],
   "source": [
    "sample_texts = ['generative model','they are','it is believed']\n",
    "for sample in sample_texts:\n",
    "    print(f\"Input text --> {sample}\")\n",
    "    predict_next_words(model=lstm_model, input_text=sample, n = 7, show_top_5=True)\n"
   ]
  },
  {
   "cell_type": "markdown",
   "metadata": {},
   "source": [
    "BiLSTM next word generation"
   ]
  },
  {
   "cell_type": "code",
   "execution_count": 49,
   "metadata": {},
   "outputs": [
    {
     "name": "stdout",
     "output_type": "stream",
     "text": [
      "Input text --> generative model\n",
      "Top five predicted words - ['for', 'classifier', 'belonging', 'of', 'specifically']\n",
      "updated sentence --> generative model for\n",
      "\n",
      "Top five predicted words - ['each', '3d', 'the', 'sequential', 'random']\n",
      "updated sentence --> generative model for each\n",
      "\n",
      "Top five predicted words - ['long', 'operating', 'model', 'classification', 'unit']\n",
      "updated sentence --> generative model for each long\n",
      "\n",
      "Top five predicted words - ['learning', 'inputs', 'term', 'model', 'sequential']\n",
      "updated sentence --> generative model for each long learning\n",
      "\n",
      "Top five predicted words - ['methods', 'we', 'of', 'from', 'bayesian']\n",
      "updated sentence --> generative model for each long learning methods\n",
      "\n",
      "Top five predicted words - ['for', 'of', 'in', 'we', 'and']\n",
      "updated sentence --> generative model for each long learning methods for\n",
      "\n",
      "Top five predicted words - ['gaussian', 'convolutional', 'a', 'sparse', 'multi']\n",
      "updated sentence --> generative model for each long learning methods for gaussian\n",
      "\n",
      "Input text --> they are\n",
      "Top five predicted words - ['not', 'more', 'astonished', '<UNK>', 'cooking']\n",
      "updated sentence --> they are not\n",
      "\n",
      "Top five predicted words - ['only', 'too', 'always', '<UNK>', 'close']\n",
      "updated sentence --> they are not only\n",
      "\n",
      "Top five predicted words - ['10', 'a', 'for', 'in', 'two']\n",
      "updated sentence --> they are not only 10\n",
      "\n",
      "Top five predicted words - ['for', 'people', 'men', 'which', 'in']\n",
      "updated sentence --> they are not only 10 for\n",
      "\n",
      "Top five predicted words - ['example', 'restaurants', 'preventing', 'four', 'their']\n",
      "updated sentence --> they are not only 10 for example\n",
      "\n",
      "Top five predicted words - ['like', 'in', 'of', 'that', 'from']\n",
      "updated sentence --> they are not only 10 for example like\n",
      "\n",
      "Top five predicted words - ['to', 'outside', '<UNK>', 'in', 'the']\n",
      "updated sentence --> they are not only 10 for example like to\n",
      "\n",
      "Input text --> it is believed\n",
      "Top five predicted words - ['that', 'to', 'by', 'regarding', 'as']\n",
      "updated sentence --> it is believed that\n",
      "\n",
      "Top five predicted words - ['the', 'this', 'when', 'our', 'these']\n",
      "updated sentence --> it is believed that the\n",
      "\n",
      "Top five predicted words - ['main', 'new', '<UNK>', 'elderly', 'second']\n",
      "updated sentence --> it is believed that the main\n",
      "\n",
      "Top five predicted words - ['cause', 'reason', 'important', 'feature', 'causes']\n",
      "updated sentence --> it is believed that the main cause\n",
      "\n",
      "Top five predicted words - ['of', 'is', 'they', 'we', 'for']\n",
      "updated sentence --> it is believed that the main cause of\n",
      "\n",
      "Top five predicted words - ['the', '<UNK>', 'considered', 'both', 'production']\n",
      "updated sentence --> it is believed that the main cause of the\n",
      "\n",
      "Top five predicted words - ['total', 'largest', '<UNK>', 'percentage', 'first']\n",
      "updated sentence --> it is believed that the main cause of the total\n",
      "\n"
     ]
    }
   ],
   "source": [
    "for sample in sample_texts:\n",
    "    print(f\"Input text --> {sample}\")\n",
    "    predict_next_words(model=bilstm_model, input_text=sample, n = 7, show_top_5=True)"
   ]
  }
 ],
 "metadata": {
  "kernelspec": {
   "display_name": "saptarshi",
   "language": "python",
   "name": "python3"
  },
  "language_info": {
   "codemirror_mode": {
    "name": "ipython",
    "version": 3
   },
   "file_extension": ".py",
   "mimetype": "text/x-python",
   "name": "python",
   "nbconvert_exporter": "python",
   "pygments_lexer": "ipython3",
   "version": "3.9.7"
  }
 },
 "nbformat": 4,
 "nbformat_minor": 2
}
